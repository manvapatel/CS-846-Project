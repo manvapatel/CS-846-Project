{
 "cells": [
  {
   "cell_type": "code",
   "execution_count": 25,
   "metadata": {},
   "outputs": [],
   "source": [
    "import pandas as pd\n",
    "\n",
    "data = pd.read_csv(\"../data/new_pullreq.csv\")\n"
   ]
  },
  {
   "cell_type": "code",
   "execution_count": 46,
   "metadata": {},
   "outputs": [
    {
     "data": {
      "text/html": "<div>\n<style scoped>\n    .dataframe tbody tr th:only-of-type {\n        vertical-align: middle;\n    }\n\n    .dataframe tbody tr th {\n        vertical-align: top;\n    }\n\n    .dataframe thead th {\n        text-align: right;\n    }\n</style>\n<table border=\"1\" class=\"dataframe\">\n  <thead>\n    <tr style=\"text-align: right;\">\n      <th></th>\n      <th>id</th>\n      <th>project_id</th>\n      <th>ownername</th>\n      <th>reponame</th>\n      <th>merged_or_not</th>\n      <th>lifetime_minutes</th>\n      <th>mergetime_minutes</th>\n      <th>num_commits</th>\n      <th>src_churn</th>\n      <th>test_churn</th>\n      <th>...</th>\n      <th>other_comment</th>\n      <th>num_comments_con</th>\n      <th>num_code_comments</th>\n      <th>num_code_comments_con</th>\n      <th>integrator_availability</th>\n      <th>friday_effect</th>\n      <th>contrib_rate_author</th>\n      <th>reopen_or_not</th>\n      <th>first_close_minutes</th>\n      <th>reopen_num</th>\n    </tr>\n  </thead>\n  <tbody>\n    <tr>\n      <th>0</th>\n      <td>1</td>\n      <td>13708387</td>\n      <td>stylelint</td>\n      <td>stylelint</td>\n      <td>1</td>\n      <td>237</td>\n      <td>237.0</td>\n      <td>1</td>\n      <td>0</td>\n      <td>0</td>\n      <td>...</td>\n      <td>0</td>\n      <td>0</td>\n      <td>0</td>\n      <td>0</td>\n      <td>30.0</td>\n      <td>1</td>\n      <td>0.007948</td>\n      <td>0</td>\n      <td>237</td>\n      <td>0</td>\n    </tr>\n    <tr>\n      <th>1</th>\n      <td>2</td>\n      <td>100297899</td>\n      <td>Joaogarciadelima</td>\n      <td>checklistos</td>\n      <td>0</td>\n      <td>1410</td>\n      <td>NaN</td>\n      <td>1</td>\n      <td>0</td>\n      <td>0</td>\n      <td>...</td>\n      <td>0</td>\n      <td>2</td>\n      <td>0</td>\n      <td>0</td>\n      <td>597.0</td>\n      <td>0</td>\n      <td>0.830769</td>\n      <td>0</td>\n      <td>1410</td>\n      <td>0</td>\n    </tr>\n    <tr>\n      <th>2</th>\n      <td>3</td>\n      <td>93139005</td>\n      <td>binary-com</td>\n      <td>SmartCharts</td>\n      <td>1</td>\n      <td>4</td>\n      <td>4.0</td>\n      <td>1</td>\n      <td>0</td>\n      <td>0</td>\n      <td>...</td>\n      <td>0</td>\n      <td>0</td>\n      <td>0</td>\n      <td>0</td>\n      <td>2.0</td>\n      <td>0</td>\n      <td>0.314368</td>\n      <td>0</td>\n      <td>4</td>\n      <td>0</td>\n    </tr>\n    <tr>\n      <th>3</th>\n      <td>4</td>\n      <td>15059440</td>\n      <td>letsencrypt</td>\n      <td>boulder</td>\n      <td>1</td>\n      <td>52</td>\n      <td>52.0</td>\n      <td>1</td>\n      <td>9</td>\n      <td>104</td>\n      <td>...</td>\n      <td>0</td>\n      <td>0</td>\n      <td>0</td>\n      <td>0</td>\n      <td>1.0</td>\n      <td>0</td>\n      <td>0.117332</td>\n      <td>0</td>\n      <td>52</td>\n      <td>0</td>\n    </tr>\n    <tr>\n      <th>4</th>\n      <td>5</td>\n      <td>29684214</td>\n      <td>PyCQA</td>\n      <td>astroid</td>\n      <td>1</td>\n      <td>2414</td>\n      <td>2414.0</td>\n      <td>1</td>\n      <td>33</td>\n      <td>27</td>\n      <td>...</td>\n      <td>0</td>\n      <td>0</td>\n      <td>0</td>\n      <td>0</td>\n      <td>2.0</td>\n      <td>0</td>\n      <td>0.010753</td>\n      <td>0</td>\n      <td>2414</td>\n      <td>0</td>\n    </tr>\n    <tr>\n      <th>...</th>\n      <td>...</td>\n      <td>...</td>\n      <td>...</td>\n      <td>...</td>\n      <td>...</td>\n      <td>...</td>\n      <td>...</td>\n      <td>...</td>\n      <td>...</td>\n      <td>...</td>\n      <td>...</td>\n      <td>...</td>\n      <td>...</td>\n      <td>...</td>\n      <td>...</td>\n      <td>...</td>\n      <td>...</td>\n      <td>...</td>\n      <td>...</td>\n      <td>...</td>\n      <td>...</td>\n    </tr>\n    <tr>\n      <th>3347932</th>\n      <td>3347933</td>\n      <td>30544060</td>\n      <td>Kronos-Integration</td>\n      <td>kronos-service-consul</td>\n      <td>1</td>\n      <td>9</td>\n      <td>9.0</td>\n      <td>1</td>\n      <td>0</td>\n      <td>0</td>\n      <td>...</td>\n      <td>0</td>\n      <td>0</td>\n      <td>0</td>\n      <td>0</td>\n      <td>2537.0</td>\n      <td>0</td>\n      <td>0.696970</td>\n      <td>0</td>\n      <td>9</td>\n      <td>0</td>\n    </tr>\n    <tr>\n      <th>3347933</th>\n      <td>3347934</td>\n      <td>1142</td>\n      <td>saltstack</td>\n      <td>salt</td>\n      <td>0</td>\n      <td>1165</td>\n      <td>NaN</td>\n      <td>1</td>\n      <td>10</td>\n      <td>0</td>\n      <td>...</td>\n      <td>0</td>\n      <td>1</td>\n      <td>0</td>\n      <td>0</td>\n      <td>42.0</td>\n      <td>0</td>\n      <td>0.056849</td>\n      <td>0</td>\n      <td>1165</td>\n      <td>0</td>\n    </tr>\n    <tr>\n      <th>3347934</th>\n      <td>3347935</td>\n      <td>31499094</td>\n      <td>mjmlio</td>\n      <td>mjml</td>\n      <td>1</td>\n      <td>8834</td>\n      <td>8834.0</td>\n      <td>2</td>\n      <td>6</td>\n      <td>0</td>\n      <td>...</td>\n      <td>0</td>\n      <td>8</td>\n      <td>0</td>\n      <td>0</td>\n      <td>597.0</td>\n      <td>0</td>\n      <td>0.002041</td>\n      <td>0</td>\n      <td>8834</td>\n      <td>0</td>\n    </tr>\n    <tr>\n      <th>3347935</th>\n      <td>3347936</td>\n      <td>55317</td>\n      <td>zotonic</td>\n      <td>zotonic</td>\n      <td>0</td>\n      <td>703</td>\n      <td>NaN</td>\n      <td>7</td>\n      <td>15</td>\n      <td>0</td>\n      <td>...</td>\n      <td>0</td>\n      <td>0</td>\n      <td>0</td>\n      <td>0</td>\n      <td>10.0</td>\n      <td>0</td>\n      <td>0.000732</td>\n      <td>0</td>\n      <td>703</td>\n      <td>0</td>\n    </tr>\n    <tr>\n      <th>3347936</th>\n      <td>3347937</td>\n      <td>5660659</td>\n      <td>ikasanEIP</td>\n      <td>ikasan</td>\n      <td>1</td>\n      <td>44</td>\n      <td>44.0</td>\n      <td>29</td>\n      <td>26881</td>\n      <td>2207</td>\n      <td>...</td>\n      <td>0</td>\n      <td>2</td>\n      <td>1</td>\n      <td>1</td>\n      <td>332.0</td>\n      <td>0</td>\n      <td>0.208889</td>\n      <td>0</td>\n      <td>44</td>\n      <td>0</td>\n    </tr>\n  </tbody>\n</table>\n<p>3347937 rows × 118 columns</p>\n</div>",
      "text/plain": "              id  project_id           ownername               reponame  \\\n0              1    13708387           stylelint              stylelint   \n1              2   100297899    Joaogarciadelima            checklistos   \n2              3    93139005          binary-com            SmartCharts   \n3              4    15059440         letsencrypt                boulder   \n4              5    29684214               PyCQA                astroid   \n...          ...         ...                 ...                    ...   \n3347932  3347933    30544060  Kronos-Integration  kronos-service-consul   \n3347933  3347934        1142           saltstack                   salt   \n3347934  3347935    31499094              mjmlio                   mjml   \n3347935  3347936       55317             zotonic                zotonic   \n3347936  3347937     5660659           ikasanEIP                 ikasan   \n\n         merged_or_not  lifetime_minutes  mergetime_minutes  num_commits  \\\n0                    1               237              237.0            1   \n1                    0              1410                NaN            1   \n2                    1                 4                4.0            1   \n3                    1                52               52.0            1   \n4                    1              2414             2414.0            1   \n...                ...               ...                ...          ...   \n3347932              1                 9                9.0            1   \n3347933              0              1165                NaN            1   \n3347934              1              8834             8834.0            2   \n3347935              0               703                NaN            7   \n3347936              1                44               44.0           29   \n\n         src_churn  test_churn  ...  other_comment  num_comments_con  \\\n0                0           0  ...              0                 0   \n1                0           0  ...              0                 2   \n2                0           0  ...              0                 0   \n3                9         104  ...              0                 0   \n4               33          27  ...              0                 0   \n...            ...         ...  ...            ...               ...   \n3347932          0           0  ...              0                 0   \n3347933         10           0  ...              0                 1   \n3347934          6           0  ...              0                 8   \n3347935         15           0  ...              0                 0   \n3347936      26881        2207  ...              0                 2   \n\n         num_code_comments  num_code_comments_con  integrator_availability  \\\n0                        0                      0                     30.0   \n1                        0                      0                    597.0   \n2                        0                      0                      2.0   \n3                        0                      0                      1.0   \n4                        0                      0                      2.0   \n...                    ...                    ...                      ...   \n3347932                  0                      0                   2537.0   \n3347933                  0                      0                     42.0   \n3347934                  0                      0                    597.0   \n3347935                  0                      0                     10.0   \n3347936                  1                      1                    332.0   \n\n         friday_effect  contrib_rate_author  reopen_or_not  \\\n0                    1             0.007948              0   \n1                    0             0.830769              0   \n2                    0             0.314368              0   \n3                    0             0.117332              0   \n4                    0             0.010753              0   \n...                ...                  ...            ...   \n3347932              0             0.696970              0   \n3347933              0             0.056849              0   \n3347934              0             0.002041              0   \n3347935              0             0.000732              0   \n3347936              0             0.208889              0   \n\n         first_close_minutes  reopen_num  \n0                        237           0  \n1                       1410           0  \n2                          4           0  \n3                         52           0  \n4                       2414           0  \n...                      ...         ...  \n3347932                    9           0  \n3347933                 1165           0  \n3347934                 8834           0  \n3347935                  703           0  \n3347936                   44           0  \n\n[3347937 rows x 118 columns]"
     },
     "execution_count": 46,
     "metadata": {},
     "output_type": "execute_result"
    }
   ],
   "source": [
    "data"
   ]
  },
  {
   "cell_type": "code",
   "execution_count": 16,
   "metadata": {},
   "outputs": [],
   "source": [
    "\n",
    "data_f = pd.read_csv(\"final_data.csv\")"
   ]
  },
  {
   "cell_type": "code",
   "execution_count": 44,
   "metadata": {},
   "outputs": [
    {
     "data": {
      "text/plain": "2259030"
     },
     "execution_count": 44,
     "metadata": {},
     "output_type": "execute_result"
    }
   ],
   "source": [
    "data['contrib_first_emo'].isna().sum()"
   ]
  },
  {
   "cell_type": "code",
   "execution_count": 7,
   "metadata": {},
   "outputs": [],
   "source": [
    "data.head()\n",
    "data_vars=data.columns.values.tolist()\n",
    "data_vars\n",
    "to_keep = [ 'merged_or_not',\n",
    " 'lifetime_minutes', 'num_commits',\n",
    " 'files_changed','num_commit_comments',\n",
    " 'num_issue_comments',\n",
    " 'watchers', 'prev_pullreqs', 'requester_succ_rate',\n",
    " 'followers',\n",
    " 'pr_succ_rate','account_creation_days',\n",
    " 'contrib_gender',\n",
    " 'contrib_country','perc_contrib_neg_emo',\n",
    " 'perc_contrib_pos_emo',\n",
    " 'perc_contrib_neu_emo',\n",
    " 'social_strength',\n",
    " 'same_country',\n",
    "  'integrator_availability',\n",
    " 'friday_effect',\n",
    " 'project_id'\n",
    "]\n",
    "data = data[to_keep]\n"
   ]
  },
  {
   "cell_type": "code",
   "execution_count": 8,
   "metadata": {},
   "outputs": [],
   "source": [
    "\n",
    "sub_saharan_africa = [\"angola\",\"benin\",\"botswana\",\"burkina faso\",\"burundi\",\"cabo verde\",\"cameroon\",\"central african republic\",\"chad\" \"comoros \",\"congo\",\"cote d'ivoire\",\"democratic republic of the congo\",\"djibouti\",\"equatorial guinea\",\"eritrea\",\"ethiopia\",\"gabon\",\"gambia\",\"ghana\",\"guinea\",\"guinea-bissau \",\"kenya\",\"lesotho\",\"liberia\",\"madagascar\",\"malawi\",\"mali\",\"mauritania\",\"mauritius\",\"mayotte\",\"mozambique\" \"namibia\",\"niger\",\"nigeria\",\"reunion\",\"rwanda\",\"sao tome and principe\",\"senegal\",\"seychelles\",\"sierra leone\",\"somalia\",\"south africa\",\"south sudan\",\"swaziland\",\"togo\",\"uganda\",\"tanzania\",\"zambia\",\"zimbabwe\"]\n",
    "northern_africa = [\"algeria\", \"egypt\", \"libya\", \"morocco\", \"sudan\", \"tunisia\", \"western sahara\"]\n",
    "western_asia =  [\"azerbaijan\", \"armenia\", \"bahrain\", \"cyprus\", \"georgia\", \"iraq\", \"israel\", \"jordan\", \"kuwait\", \"lebanon\", \"palestinian territories\", \"oman\", \"qatar\", \"saudi arabia\", \"syria\", \"turkey\", \"united arab emirates\", \"yemen\"]\n",
    "central_asia =[\"kazakhstan\", \"kyrgyzstan\", \"tajikistan\", \"turkmenistan\", \"uzbekistan\"]\n",
    "southern_asia = [\"afghanistan\", \"bangladesh\", \"bhutan\", \"india\", \"iran\", \"maldives\", \"nepal\", \"pakistan\", \"sri lanka\"]\n",
    "eastern_asia = [\"vietnam\",\"taiwan\",\"macau\",\"laos\",\"china\", \"hong kong\", \"china, macao sar\", \"south korea\", \"japan\", \"mongolia\", \"north korea\"]\n",
    "south_eastern_asia = [\"brunei\", \"cambodia\", \"indonesia\", \"lao people's democratic republic\", \"malaysia\", \"myanmar\", \"philippines\", \"singapore\", \"thailand\", \"timor-leste\", \"viet nam\"]\n",
    "caribbean = [\"anguilla\", \"antigua and barbuda\", \"aruba\", \"bahamas\", \"barbados\", \"bonaire, sint eustatius and saba\", \"virgin islands\", \"cayman islands\", \"cuba\", \"curacao\", \"dominica\", \"dominican republic\", \"grenada\", \"guadeloupe\", \"haiti\", \"jamaica\", \"martinique\", \"montserrat\", \"puerto rico\", \"saint kitts and nevis\", \"saint lucia\", \"saint vincent and the grenadines\", \"sint maarten (dutch part)\", \"trinidad and tobago\", \"turks and caicos islands\", \"united states virgin islands\"]\n",
    "central_america = [\"belize\", \"honduras\", \"costa rica\", \"el salvador\", \"guatemala\", \"mexico\", \"nicaragua\", \"panama\"]\n",
    "south_america = [\"argentina\", \"bolivia\", \"brazil\", \"chile\", \"colombia\", \"ecuador\", \"french guiana\", \"falkland islands (malvinas)\", \"south georgia & the south sandwich islands\", \"guyana\", \"paraguay\", \"peru\", \"suriname\", \"uruguay\", \"venezuela\"]\n",
    "australia_and_new_zealand = [\"australia\", \"christmas island\", \"cocos (keeling) islands\", \"heard island & mcdonald islands\", \"norfolk island\", \"new zealand\"]\n",
    "melanesia = [\"fiji\", \"new caledonia\", \"papua new guinea\", \"solomon islands\", \"vanuatu\"]\n",
    "micronesia = [\"kiribati\", \"marshall islands\", \"micronesia (federated states of)\", \"nauru\", \"northern mariana islands\", \"palau\", \"guam\"]\n",
    "polynesia = [\"french polynesia\", \"wallis and futuna island\", \"pitcairn\", \"cook islands\", \"niue\", \"tokelau\", \"tonga\", \"tuvalu\", \"american samoa\", \"samoa\"]\n",
    "northern_america = [\"bermuda\", \"canada\", \"greenland\", \"united states\"]\n",
    "eastern_europe = [\"bulgaria\", \"belarus\", \"czech republic\", \"hungary\", \"moldova\", \"poland\", \"romania\", \"russia\", \"slovakia\", \"ukraine\"]\n",
    "western_europe = [\"austria\", \"belgium\", \"switzerland\", \"germany\", \"france\", \"liechtenstein\", \"luxembourg\", \"monaco\", \"netherlands antilles\",\"netherlands\", \"jersey\", \"guernsey\"]\n",
    "northern_europe = [\"åland islands\", \"channel islands\", \"denmark\", \"estonia\", \"faroe islands\", \"finland\", \"isle of man\", \"united kingdom\", \"iceland\", \"ireland\", \"latvia\", \"lithuania\", \"norway\", \"sweden\"]\n",
    "southern_europe = [\"albania\", \"andorra\", \"bosnia and herzegovina\", \"croatia\", \"greece\", \"italy\", \"malta\", \"montenegro\", \"portugal\", \"san marino\", \"serbia\", \"slovenia\", \"spain\", \"macedonia\", \"kosovo\"]"
   ]
  },
  {
   "cell_type": "code",
   "execution_count": null,
   "metadata": {},
   "outputs": [],
   "source": [
    "sub_saharan_africa = [\"angola\",\"benin\",\"botswana\",\"burkina faso\",\"burundi\",\"cabo verde\",\"cameroon\",\"central african republic\",\"chad\" \"comoros \",\"congo\",\"cote d'ivoire\",\"democratic republic of the congo\",\"djibouti\",\"equatorial guinea\",\"eritrea\",\"ethiopia\",\"gabon\",\"gambia\",\"ghana\",\"guinea\",\"guinea-bissau \",\"kenya\",\"lesotho\",\"liberia\",\"madagascar\",\"malawi\",\"mali\",\"mauritania\",\"mauritius\",\"mayotte\",\"mozambique\" \"namibia\",\"niger\",\"nigeria\",\"reunion\",\"rwanda\",\"sao tome and principe\",\"senegal\",\"seychelles\",\"sierra leone\",\"somalia\",\"south africa\",\"south sudan\",\"swaziland\",\"togo\",\"uganda\",\"tanzania\",\"zambia\",\"zimbabwe\"]\n",
    "northern_africa_and_western_asia = [\"algeria\", \"egypt\", \"libya\", \"morocco\", \"sudan\", \"tunisia\", \"western sahara\", \"azerbaijan\", \"armenia\", \"bahrain\", \"cyprus\", \"georgia\", \"iraq\", \"israel\", \"jordan\", \"kuwait\", \"lebanon\", \"palestinian territories\", \"oman\", \"qatar\", \"saudi arabia\", \"syria\", \"turkey\", \"united arab emirates\", \"yemen\"]\n",
    "central_and_southern_asia =[\"kazakhstan\", \"kyrgyzstan\", \"tajikistan\", \"turkmenistan\", \"uzbekistan\", \"afghanistan\", \"bangladesh\", \"bhutan\", \"india\", \"iran\", \"maldives\", \"nepal\", \"pakistan\", \"sri lanka\"]\n",
    "eastern_and_south_eastern_asia = [\"vietnam\",\"taiwan\",\"macau\",\"laos\",\"china\", \"hong kong\", \"china, macao sar\", \"south korea\", \"japan\", \"mongolia\", \"north korea\", \"brunei\", \"cambodia\", \"indonesia\", \"lao people's democratic republic\", \"malaysia\", \"myanmar\", \"philippines\", \"singapore\", \"thailand\", \"timor-leste\", \"viet nam\"]\n",
    "latin_america_and_the_caribbean = [\"anguilla\", \"antigua and barbuda\", \"aruba\", \"bahamas\", \"barbados\", \"bonaire, sint eustatius and saba\", \"virgin islands\", \"cayman islands\", \"cuba\", \"curacao\", \"dominica\", \"dominican republic\", \"grenada\", \"guadeloupe\", \"haiti\", \"jamaica\", \"martinique\", \"montserrat\", \"puerto rico\", \"saint kitts and nevis\", \"saint lucia\", \"saint vincent and the grenadines\", \"sint maarten (dutch part)\", \"trinidad and tobago\", \"turks and caicos islands\", \"united states virgin islands\", \"belize\", \"honduras\", \"costa rica\", \"el salvador\", \"guatemala\", \"mexico\", \"nicaragua\", \"panama\", \"argentina\", \"bolivia\", \"brazil\", \"chile\", \"colombia\", \"ecuador\", \"french guiana\", \"falkland islands (malvinas)\", \"south georgia & the south sandwich islands\", \"guyana\", \"paraguay\", \"peru\", \"suriname\", \"uruguay\", \"venezuela\"]\n",
    "oceania=[\"australia\", \"christmas island\", \"cocos (keeling) islands\", \"heard island & mcdonald islands\", \"norfolk island\", \"new zealand\", \"melanesia\", \"micronesia\", \"french polynesia\"]\n",
    "europe_and_northern_america = [\"bermuda\", \"canada\", \"greenland\", \"united states\", \"europe\", \"bulgaria\", \"belarus\", \"czech republic\", \"hungary\", \"moldova\", \"poland\", \"romania\", \"russia\", \"slovakia\", \"ukraine\", \"åland islands\", \"channel islands\", \"denmark\", \"estonia\", \"faroe islands\", \"finland\", \"isle of man\", \"united kingdom\", \"iceland\", \"ireland\", \"latvia\", \"lithuania\", \"norway\", \"sweden\", \"albania\", \"andorra\", \"bosnia and herzegovina\", \"croatia\", \"greece\", \"italy\", \"malta\", \"montenegro\", \"portugal\", \"san marino\", \"serbia\", \"slovenia\", \"spain\", \"macedonia\", \"austria\", \"belgium\", \"switzerland\", \"germany\", \"france\", \"liechtenstein\", \"luxembourg\", \"monaco\", \"netherlands antilles\",\"netherlands\",\"antarctica\",\"gibraltar\",\"guam\",\"guernsey\",\"jersey\",\"kosovo\",\"new caledonia\",\"pitcairn islands\",\"northern mariana islands\"]"
   ]
  },
  {
   "cell_type": "code",
   "execution_count": null,
   "metadata": {},
   "outputs": [],
   "source": []
  },
  {
   "cell_type": "code",
   "execution_count": 10,
   "metadata": {},
   "outputs": [
    {
     "name": "stdout",
     "output_type": "stream",
     "text": [
      "(985889, 22)\n"
     ]
    },
    {
     "data": {
      "text/html": "<div>\n<style scoped>\n    .dataframe tbody tr th:only-of-type {\n        vertical-align: middle;\n    }\n\n    .dataframe tbody tr th {\n        vertical-align: top;\n    }\n\n    .dataframe thead th {\n        text-align: right;\n    }\n</style>\n<table border=\"1\" class=\"dataframe\">\n  <thead>\n    <tr style=\"text-align: right;\">\n      <th></th>\n      <th>merged_or_not</th>\n      <th>lifetime_minutes</th>\n      <th>num_commits</th>\n      <th>files_changed</th>\n      <th>num_commit_comments</th>\n      <th>num_issue_comments</th>\n      <th>watchers</th>\n      <th>prev_pullreqs</th>\n      <th>requester_succ_rate</th>\n      <th>followers</th>\n      <th>...</th>\n      <th>contrib_gender</th>\n      <th>contrib_country</th>\n      <th>perc_contrib_neg_emo</th>\n      <th>perc_contrib_pos_emo</th>\n      <th>perc_contrib_neu_emo</th>\n      <th>social_strength</th>\n      <th>same_country</th>\n      <th>integrator_availability</th>\n      <th>friday_effect</th>\n      <th>project_id</th>\n    </tr>\n  </thead>\n  <tbody>\n    <tr>\n      <th>2</th>\n      <td>1</td>\n      <td>4</td>\n      <td>1</td>\n      <td>1</td>\n      <td>0</td>\n      <td>0</td>\n      <td>5</td>\n      <td>81</td>\n      <td>0.987654</td>\n      <td>33</td>\n      <td>...</td>\n      <td>male</td>\n      <td>malaysia</td>\n      <td>0.0</td>\n      <td>0.0</td>\n      <td>0.0</td>\n      <td>0.428571</td>\n      <td>1.0</td>\n      <td>2.0</td>\n      <td>0</td>\n      <td>93139005</td>\n    </tr>\n    <tr>\n      <th>11</th>\n      <td>1</td>\n      <td>20437</td>\n      <td>4</td>\n      <td>2</td>\n      <td>0</td>\n      <td>0</td>\n      <td>159</td>\n      <td>23</td>\n      <td>0.956522</td>\n      <td>555</td>\n      <td>...</td>\n      <td>male</td>\n      <td>peru</td>\n      <td>0.0</td>\n      <td>0.0</td>\n      <td>0.0</td>\n      <td>0.384615</td>\n      <td>0.0</td>\n      <td>88.0</td>\n      <td>1</td>\n      <td>73033219</td>\n    </tr>\n    <tr>\n      <th>16</th>\n      <td>1</td>\n      <td>111</td>\n      <td>3</td>\n      <td>4</td>\n      <td>0</td>\n      <td>0</td>\n      <td>11145</td>\n      <td>407</td>\n      <td>0.982801</td>\n      <td>240</td>\n      <td>...</td>\n      <td>male</td>\n      <td>united states</td>\n      <td>0.0</td>\n      <td>0.0</td>\n      <td>0.0</td>\n      <td>0.238095</td>\n      <td>1.0</td>\n      <td>98.0</td>\n      <td>0</td>\n      <td>46403735</td>\n    </tr>\n    <tr>\n      <th>21</th>\n      <td>1</td>\n      <td>0</td>\n      <td>1</td>\n      <td>2</td>\n      <td>0</td>\n      <td>0</td>\n      <td>45</td>\n      <td>41</td>\n      <td>1.000000</td>\n      <td>7</td>\n      <td>...</td>\n      <td>male</td>\n      <td>united states</td>\n      <td>0.0</td>\n      <td>0.0</td>\n      <td>0.0</td>\n      <td>0.333333</td>\n      <td>1.0</td>\n      <td>1313.0</td>\n      <td>0</td>\n      <td>22182978</td>\n    </tr>\n    <tr>\n      <th>22</th>\n      <td>1</td>\n      <td>72</td>\n      <td>1</td>\n      <td>1</td>\n      <td>0</td>\n      <td>1</td>\n      <td>13</td>\n      <td>183</td>\n      <td>0.978142</td>\n      <td>34</td>\n      <td>...</td>\n      <td>female</td>\n      <td>united states</td>\n      <td>0.0</td>\n      <td>0.0</td>\n      <td>0.0</td>\n      <td>0.857143</td>\n      <td>1.0</td>\n      <td>927.0</td>\n      <td>0</td>\n      <td>46634954</td>\n    </tr>\n  </tbody>\n</table>\n<p>5 rows × 22 columns</p>\n</div>",
      "text/plain": "    merged_or_not  lifetime_minutes  num_commits  files_changed  \\\n2               1                 4            1              1   \n11              1             20437            4              2   \n16              1               111            3              4   \n21              1                 0            1              2   \n22              1                72            1              1   \n\n    num_commit_comments  num_issue_comments  watchers  prev_pullreqs  \\\n2                     0                   0         5             81   \n11                    0                   0       159             23   \n16                    0                   0     11145            407   \n21                    0                   0        45             41   \n22                    0                   1        13            183   \n\n    requester_succ_rate  followers  ...  contrib_gender  contrib_country  \\\n2              0.987654         33  ...            male         malaysia   \n11             0.956522        555  ...            male             peru   \n16             0.982801        240  ...            male    united states   \n21             1.000000          7  ...            male    united states   \n22             0.978142         34  ...          female    united states   \n\n   perc_contrib_neg_emo perc_contrib_pos_emo  perc_contrib_neu_emo  \\\n2                   0.0                  0.0                   0.0   \n11                  0.0                  0.0                   0.0   \n16                  0.0                  0.0                   0.0   \n21                  0.0                  0.0                   0.0   \n22                  0.0                  0.0                   0.0   \n\n    social_strength  same_country  integrator_availability  friday_effect  \\\n2          0.428571           1.0                      2.0              0   \n11         0.384615           0.0                     88.0              1   \n16         0.238095           1.0                     98.0              0   \n21         0.333333           1.0                   1313.0              0   \n22         0.857143           1.0                    927.0              0   \n\n    project_id  \n2     93139005  \n11    73033219  \n16    46403735  \n21    22182978  \n22    46634954  \n\n[5 rows x 22 columns]"
     },
     "execution_count": 10,
     "metadata": {},
     "output_type": "execute_result"
    }
   ],
   "source": [
    "data_subset2 = data.dropna(subset=['contrib_gender', 'contrib_country','same_country'])\n",
    "print(data_subset2.shape)\n",
    "data_subset2.head()\n"
   ]
  },
  {
   "cell_type": "code",
   "execution_count": 11,
   "metadata": {},
   "outputs": [
    {
     "name": "stderr",
     "output_type": "stream",
     "text": [
      "/home/ssghorsh/.local/lib/python3.8/site-packages/pandas/core/indexing.py:1720: SettingWithCopyWarning: \n",
      "A value is trying to be set on a copy of a slice from a DataFrame.\n",
      "Try using .loc[row_indexer,col_indexer] = value instead\n",
      "\n",
      "See the caveats in the documentation: https://pandas.pydata.org/pandas-docs/stable/user_guide/indexing.html#returning-a-view-versus-a-copy\n",
      "  self._setitem_single_column(loc, value, pi)\n"
     ]
    }
   ],
   "source": [
    "data_subset2.loc[data_subset2[\"contrib_country\"].isin(sub_saharan_africa), \"contrib_country\"] = \"sub_saharan_africa\"\n",
    "data_subset2.loc[data_subset2[\"contrib_country\"].isin(northern_africa), \"contrib_country\"] = \"northern_africa_and_western_asia\"\n",
    "data_subset2.loc[data_subset2[\"contrib_country\"].isin(western_asia), \"contrib_country\"] = \"northern_africa_and_western_asia\"\n",
    "data_subset2.loc[data_subset2[\"contrib_country\"].isin(central_asia), \"contrib_country\"] = \"central_and_southern_asia\"\n",
    "data_subset2.loc[data_subset2[\"contrib_country\"].isin(southern_asia), \"contrib_country\"] = \"central_and_southern_asia\"\n",
    "data_subset2.loc[data_subset2[\"contrib_country\"].isin(eastern_asia), \"contrib_country\"] = \"eastern_and_south_eastern_asia\"\n",
    "data_subset2.loc[data_subset2[\"contrib_country\"].isin(south_eastern_asia), \"contrib_country\"] = \"eastern_and_south_eastern_asia\"\n",
    "data_subset2.loc[data_subset2[\"contrib_country\"].isin(caribbean), \"contrib_country\"] = \"latin_america_and_the_caribbean\"\n",
    "data_subset2.loc[data_subset2[\"contrib_country\"].isin(central_america), \"contrib_country\"] = \"latin_america_and_the_caribbean\"\n",
    "data_subset2.loc[data_subset2[\"contrib_country\"].isin(south_america), \"contrib_country\"] = \"latin_america_and_the_caribbean\"\n",
    "data_subset2.loc[data_subset2[\"contrib_country\"].isin(australia_and_new_zealand), \"contrib_country\"] = \"oceania\"\n",
    "data_subset2.loc[data_subset2[\"contrib_country\"].isin(melanesia), \"contrib_country\"] = \"oceania\"\n",
    "data_subset2.loc[data_subset2[\"contrib_country\"].isin(micronesia), \"contrib_country\"] = \"oceania\"\n",
    "data_subset2.loc[data_subset2[\"contrib_country\"].isin(polynesia), \"contrib_country\"] = \"oceania\"\n",
    "data_subset2.loc[data_subset2[\"contrib_country\"].isin(northern_america), \"contrib_country\"] = \"europe_and_northern_america\"\n",
    "data_subset2.loc[data_subset2[\"contrib_country\"].isin(eastern_europe), \"contrib_country\"] = \"europe_and_northern_america\"\n",
    "data_subset2.loc[data_subset2[\"contrib_country\"].isin(western_europe), \"contrib_country\"] = \"europe_and_northern_america\"\n",
    "data_subset2.loc[data_subset2[\"contrib_country\"].isin(northern_europe), \"contrib_country\"] = \"europe_and_northern_america\"\n",
    "data_subset2.loc[data_subset2[\"contrib_country\"].isin(southern_europe), \"contrib_country\"] = \"europe_and_northern_america\"\n",
    "data_subset2.loc[data_subset2[\"contrib_country\"].isin([\"mozambique\"]), \"contrib_country\"] = \"sub_saharan_africa\""
   ]
  },
  {
   "cell_type": "code",
   "execution_count": null,
   "metadata": {},
   "outputs": [],
   "source": [
    "data_subset2.loc[data_subset2[\"contrib_country\"].isin(sub_saharan_africa), \"contrib_country\"] = \"sub_saharan_africa\"\n",
    "data_subset2.loc[data_subset2[\"contrib_country\"].isin(northern_africa_and_western_asia), \"contrib_country\"] = \"northern_africa_and_western_asia\"\n",
    "data_subset2.loc[data_subset2[\"contrib_country\"].isin(central_and_southern_asia), \"contrib_country\"] = \"central_and_southern_asia\"\n",
    "data_subset2.loc[data_subset2[\"contrib_country\"].isin(eastern_and_south_eastern_asia), \"contrib_country\"] = \"eastern_and_south_eastern_asia\"\n",
    "data_subset2.loc[data_subset2[\"contrib_country\"].isin(latin_america_and_the_caribbean), \"contrib_country\"] = \"latin_america_and_the_caribbean\"\n",
    "data_subset2.loc[data_subset2[\"contrib_country\"].isin(oceania), \"contrib_country\"] = \"oceania\"\n",
    "data_subset2.loc[data_subset2[\"contrib_country\"].isin(europe_and_northern_america), \"contrib_country\"] = \"europe_and_northern_america\"\n",
    "data_subset2.loc[data_subset2[\"contrib_country\"].isin([\"mozambique\"]), \"contrib_country\"] = \"sub_saharan_africa\"\n"
   ]
  },
  {
   "cell_type": "code",
   "execution_count": 11,
   "metadata": {},
   "outputs": [
    {
     "ename": "KeyError",
     "evalue": "'same_affiliation'",
     "output_type": "error",
     "traceback": [
      "\u001b[0;31m---------------------------------------------------------------------------\u001b[0m",
      "\u001b[0;31mKeyError\u001b[0m                                  Traceback (most recent call last)",
      "\u001b[0;32m~/.local/lib/python3.8/site-packages/pandas/core/indexes/base.py\u001b[0m in \u001b[0;36mget_loc\u001b[0;34m(self, key, method, tolerance)\u001b[0m\n\u001b[1;32m   3080\u001b[0m             \u001b[0;32mtry\u001b[0m\u001b[0;34m:\u001b[0m\u001b[0;34m\u001b[0m\u001b[0;34m\u001b[0m\u001b[0m\n\u001b[0;32m-> 3081\u001b[0;31m                 \u001b[0;32mreturn\u001b[0m \u001b[0mself\u001b[0m\u001b[0;34m.\u001b[0m\u001b[0m_engine\u001b[0m\u001b[0;34m.\u001b[0m\u001b[0mget_loc\u001b[0m\u001b[0;34m(\u001b[0m\u001b[0mcasted_key\u001b[0m\u001b[0;34m)\u001b[0m\u001b[0;34m\u001b[0m\u001b[0;34m\u001b[0m\u001b[0m\n\u001b[0m\u001b[1;32m   3082\u001b[0m             \u001b[0;32mexcept\u001b[0m \u001b[0mKeyError\u001b[0m \u001b[0;32mas\u001b[0m \u001b[0merr\u001b[0m\u001b[0;34m:\u001b[0m\u001b[0;34m\u001b[0m\u001b[0;34m\u001b[0m\u001b[0m\n",
      "\u001b[0;32mpandas/_libs/index.pyx\u001b[0m in \u001b[0;36mpandas._libs.index.IndexEngine.get_loc\u001b[0;34m()\u001b[0m\n",
      "\u001b[0;32mpandas/_libs/index.pyx\u001b[0m in \u001b[0;36mpandas._libs.index.IndexEngine.get_loc\u001b[0;34m()\u001b[0m\n",
      "\u001b[0;32mpandas/_libs/hashtable_class_helper.pxi\u001b[0m in \u001b[0;36mpandas._libs.hashtable.PyObjectHashTable.get_item\u001b[0;34m()\u001b[0m\n",
      "\u001b[0;32mpandas/_libs/hashtable_class_helper.pxi\u001b[0m in \u001b[0;36mpandas._libs.hashtable.PyObjectHashTable.get_item\u001b[0;34m()\u001b[0m\n",
      "\u001b[0;31mKeyError\u001b[0m: 'same_affiliation'",
      "\nThe above exception was the direct cause of the following exception:\n",
      "\u001b[0;31mKeyError\u001b[0m                                  Traceback (most recent call last)",
      "\u001b[0;32m<ipython-input-11-e3126087c1ce>\u001b[0m in \u001b[0;36m<module>\u001b[0;34m\u001b[0m\n\u001b[0;32m----> 1\u001b[0;31m \u001b[0mdata_subset2\u001b[0m\u001b[0;34m[\u001b[0m\u001b[0;34m'same_affiliation'\u001b[0m\u001b[0;34m]\u001b[0m\u001b[0;34m.\u001b[0m\u001b[0misna\u001b[0m\u001b[0;34m(\u001b[0m\u001b[0;34m)\u001b[0m\u001b[0;34m.\u001b[0m\u001b[0msum\u001b[0m\u001b[0;34m(\u001b[0m\u001b[0;34m)\u001b[0m\u001b[0;34m\u001b[0m\u001b[0;34m\u001b[0m\u001b[0m\n\u001b[0m",
      "\u001b[0;32m~/.local/lib/python3.8/site-packages/pandas/core/frame.py\u001b[0m in \u001b[0;36m__getitem__\u001b[0;34m(self, key)\u001b[0m\n\u001b[1;32m   3022\u001b[0m             \u001b[0;32mif\u001b[0m \u001b[0mself\u001b[0m\u001b[0;34m.\u001b[0m\u001b[0mcolumns\u001b[0m\u001b[0;34m.\u001b[0m\u001b[0mnlevels\u001b[0m \u001b[0;34m>\u001b[0m \u001b[0;36m1\u001b[0m\u001b[0;34m:\u001b[0m\u001b[0;34m\u001b[0m\u001b[0;34m\u001b[0m\u001b[0m\n\u001b[1;32m   3023\u001b[0m                 \u001b[0;32mreturn\u001b[0m \u001b[0mself\u001b[0m\u001b[0;34m.\u001b[0m\u001b[0m_getitem_multilevel\u001b[0m\u001b[0;34m(\u001b[0m\u001b[0mkey\u001b[0m\u001b[0;34m)\u001b[0m\u001b[0;34m\u001b[0m\u001b[0;34m\u001b[0m\u001b[0m\n\u001b[0;32m-> 3024\u001b[0;31m             \u001b[0mindexer\u001b[0m \u001b[0;34m=\u001b[0m \u001b[0mself\u001b[0m\u001b[0;34m.\u001b[0m\u001b[0mcolumns\u001b[0m\u001b[0;34m.\u001b[0m\u001b[0mget_loc\u001b[0m\u001b[0;34m(\u001b[0m\u001b[0mkey\u001b[0m\u001b[0;34m)\u001b[0m\u001b[0;34m\u001b[0m\u001b[0;34m\u001b[0m\u001b[0m\n\u001b[0m\u001b[1;32m   3025\u001b[0m             \u001b[0;32mif\u001b[0m \u001b[0mis_integer\u001b[0m\u001b[0;34m(\u001b[0m\u001b[0mindexer\u001b[0m\u001b[0;34m)\u001b[0m\u001b[0;34m:\u001b[0m\u001b[0;34m\u001b[0m\u001b[0;34m\u001b[0m\u001b[0m\n\u001b[1;32m   3026\u001b[0m                 \u001b[0mindexer\u001b[0m \u001b[0;34m=\u001b[0m \u001b[0;34m[\u001b[0m\u001b[0mindexer\u001b[0m\u001b[0;34m]\u001b[0m\u001b[0;34m\u001b[0m\u001b[0;34m\u001b[0m\u001b[0m\n",
      "\u001b[0;32m~/.local/lib/python3.8/site-packages/pandas/core/indexes/base.py\u001b[0m in \u001b[0;36mget_loc\u001b[0;34m(self, key, method, tolerance)\u001b[0m\n\u001b[1;32m   3081\u001b[0m                 \u001b[0;32mreturn\u001b[0m \u001b[0mself\u001b[0m\u001b[0;34m.\u001b[0m\u001b[0m_engine\u001b[0m\u001b[0;34m.\u001b[0m\u001b[0mget_loc\u001b[0m\u001b[0;34m(\u001b[0m\u001b[0mcasted_key\u001b[0m\u001b[0;34m)\u001b[0m\u001b[0;34m\u001b[0m\u001b[0;34m\u001b[0m\u001b[0m\n\u001b[1;32m   3082\u001b[0m             \u001b[0;32mexcept\u001b[0m \u001b[0mKeyError\u001b[0m \u001b[0;32mas\u001b[0m \u001b[0merr\u001b[0m\u001b[0;34m:\u001b[0m\u001b[0;34m\u001b[0m\u001b[0;34m\u001b[0m\u001b[0m\n\u001b[0;32m-> 3083\u001b[0;31m                 \u001b[0;32mraise\u001b[0m \u001b[0mKeyError\u001b[0m\u001b[0;34m(\u001b[0m\u001b[0mkey\u001b[0m\u001b[0;34m)\u001b[0m \u001b[0;32mfrom\u001b[0m \u001b[0merr\u001b[0m\u001b[0;34m\u001b[0m\u001b[0;34m\u001b[0m\u001b[0m\n\u001b[0m\u001b[1;32m   3084\u001b[0m \u001b[0;34m\u001b[0m\u001b[0m\n\u001b[1;32m   3085\u001b[0m         \u001b[0;32mif\u001b[0m \u001b[0mtolerance\u001b[0m \u001b[0;32mis\u001b[0m \u001b[0;32mnot\u001b[0m \u001b[0;32mNone\u001b[0m\u001b[0;34m:\u001b[0m\u001b[0;34m\u001b[0m\u001b[0;34m\u001b[0m\u001b[0m\n",
      "\u001b[0;31mKeyError\u001b[0m: 'same_affiliation'"
     ]
    }
   ],
   "source": [
    "data_subset2['same_affiliation'].isna().sum()"
   ]
  },
  {
   "cell_type": "code",
   "execution_count": 12,
   "metadata": {},
   "outputs": [
    {
     "data": {
      "text/plain": "merged_or_not              0\nlifetime_minutes           0\nnum_commits                0\nfiles_changed              0\nnum_commit_comments        0\nnum_issue_comments         0\nwatchers                   0\nprev_pullreqs              0\nrequester_succ_rate        0\nfollowers                  0\npr_succ_rate               0\naccount_creation_days      0\ncontrib_gender             0\ncontrib_country            0\nperc_contrib_neg_emo       0\nperc_contrib_pos_emo       0\nperc_contrib_neu_emo       0\nsocial_strength            0\nsame_country               0\nintegrator_availability    0\nfriday_effect              0\nproject_id                 0\ndtype: int64"
     },
     "execution_count": 12,
     "metadata": {},
     "output_type": "execute_result"
    }
   ],
   "source": [
    "data_subset = data_subset2.dropna(subset=['contrib_gender','same_country','perc_contrib_neg_emo','perc_contrib_pos_emo','perc_contrib_neu_emo','pr_succ_rate','social_strength','integrator_availability'])\n",
    "data_subset.isna().sum()\n"
   ]
  },
  {
   "cell_type": "code",
   "execution_count": 13,
   "metadata": {},
   "outputs": [],
   "source": [
    "data = data_subset\n",
    "\n",
    "data_vars=data.columns.values.tolist()\n",
    "# cat_list='var'+'_'+\"contrib_country\"\n",
    "# cat_list = pd.get_dummies(data['contrib_country'], prefix='contrib_country')\n",
    "# data1=data.join(cat_list)\n",
    "# data=data1\n",
    "removing = ['ownername','reponame','ci_first_build_status','ci_last_build_status']\n",
    "dummy = ['language','contrib_gender','contrib_country','contrib_affiliation','contrib_first_emo','inte_country','inte_affiliation','inte_first_emo']\n",
    "for var in dummy:\n",
    "    if var in data_vars:\n",
    "        cat_list='var'+'_'+var\n",
    "        cat_list = pd.get_dummies(data[var], prefix=var)\n",
    "        data1=data.join(cat_list)\n",
    "        data=data1\n",
    "data_vars=data.columns.values.tolist()\n",
    "to_keep=[i for i in data_vars if i not in dummy]\n",
    "data= data[to_keep]\n",
    "data_final = data\n",
    "\n"
   ]
  },
  {
   "cell_type": "code",
   "execution_count": 15,
   "metadata": {},
   "outputs": [],
   "source": [
    "\n",
    "data_vars=data.columns.values.tolist()\n",
    "removing = ['ownername','reponame','ci_first_build_status','ci_last_build_status', 'project_id','id','perc_neg_emotion']\n",
    "to_keep=[i for i in data_vars if i not in removing]\n",
    "data= data[to_keep]\n",
    "data_final = data\n",
    "data_final\n",
    "data.to_csv('modified.csv', index = False)"
   ]
  },
  {
   "cell_type": "code",
   "execution_count": 15,
   "metadata": {},
   "outputs": [],
   "source": [
    "data_final.to_csv('final_data.csv', index = False)"
   ]
  },
  {
   "cell_type": "code",
   "execution_count": 16,
   "metadata": {},
   "outputs": [
    {
     "ename": "TypeError",
     "evalue": "supplying multiple axes to axis is no longer supported.",
     "output_type": "error",
     "traceback": [
      "\u001b[0;31m---------------------------------------------------------------------------\u001b[0m",
      "\u001b[0;31mTypeError\u001b[0m                                 Traceback (most recent call last)",
      "\u001b[0;32m<ipython-input-16-3d81cd4ad0f3>\u001b[0m in \u001b[0;36m<module>\u001b[0;34m\u001b[0m\n\u001b[1;32m      1\u001b[0m \u001b[0mdata_vars\u001b[0m\u001b[0;34m=\u001b[0m\u001b[0mdata\u001b[0m\u001b[0;34m.\u001b[0m\u001b[0mcolumns\u001b[0m\u001b[0;34m.\u001b[0m\u001b[0mvalues\u001b[0m\u001b[0;34m.\u001b[0m\u001b[0mtolist\u001b[0m\u001b[0;34m(\u001b[0m\u001b[0;34m)\u001b[0m\u001b[0;34m\u001b[0m\u001b[0;34m\u001b[0m\u001b[0m\n\u001b[1;32m      2\u001b[0m \u001b[0mdata_vars\u001b[0m\u001b[0;34m\u001b[0m\u001b[0;34m\u001b[0m\u001b[0m\n\u001b[0;32m----> 3\u001b[0;31m \u001b[0mdata\u001b[0m\u001b[0;34m.\u001b[0m\u001b[0mdropna\u001b[0m\u001b[0;34m(\u001b[0m\u001b[0mdata_vars\u001b[0m\u001b[0;34m)\u001b[0m\u001b[0;34m\u001b[0m\u001b[0;34m\u001b[0m\u001b[0m\n\u001b[0m",
      "\u001b[0;32m~/.local/lib/python3.8/site-packages/pandas/core/frame.py\u001b[0m in \u001b[0;36mdropna\u001b[0;34m(self, axis, how, thresh, subset, inplace)\u001b[0m\n\u001b[1;32m   5149\u001b[0m         \u001b[0;32mif\u001b[0m \u001b[0misinstance\u001b[0m\u001b[0;34m(\u001b[0m\u001b[0maxis\u001b[0m\u001b[0;34m,\u001b[0m \u001b[0;34m(\u001b[0m\u001b[0mtuple\u001b[0m\u001b[0;34m,\u001b[0m \u001b[0mlist\u001b[0m\u001b[0;34m)\u001b[0m\u001b[0;34m)\u001b[0m\u001b[0;34m:\u001b[0m\u001b[0;34m\u001b[0m\u001b[0;34m\u001b[0m\u001b[0m\n\u001b[1;32m   5150\u001b[0m             \u001b[0;31m# GH20987\u001b[0m\u001b[0;34m\u001b[0m\u001b[0;34m\u001b[0m\u001b[0;34m\u001b[0m\u001b[0m\n\u001b[0;32m-> 5151\u001b[0;31m             \u001b[0;32mraise\u001b[0m \u001b[0mTypeError\u001b[0m\u001b[0;34m(\u001b[0m\u001b[0;34m\"supplying multiple axes to axis is no longer supported.\"\u001b[0m\u001b[0;34m)\u001b[0m\u001b[0;34m\u001b[0m\u001b[0;34m\u001b[0m\u001b[0m\n\u001b[0m\u001b[1;32m   5152\u001b[0m \u001b[0;34m\u001b[0m\u001b[0m\n\u001b[1;32m   5153\u001b[0m         \u001b[0maxis\u001b[0m \u001b[0;34m=\u001b[0m \u001b[0mself\u001b[0m\u001b[0;34m.\u001b[0m\u001b[0m_get_axis_number\u001b[0m\u001b[0;34m(\u001b[0m\u001b[0maxis\u001b[0m\u001b[0;34m)\u001b[0m\u001b[0;34m\u001b[0m\u001b[0;34m\u001b[0m\u001b[0m\n",
      "\u001b[0;31mTypeError\u001b[0m: supplying multiple axes to axis is no longer supported."
     ]
    }
   ],
   "source": [
    "data_vars=data.columns.values.tolist()\n",
    "data_vars\n",
    "data.dropna(data_vars)"
   ]
  },
  {
   "cell_type": "code",
   "execution_count": null,
   "metadata": {},
   "outputs": [],
   "source": [
    "data_final = data\n",
    "data_final_vars=data_final.columns.values.tolist()\n",
    "y=['merged_or_not']\n",
    "X=[i for i in data_final_vars if i not in y]\n",
    "from sklearn.feature_selection import RFE\n",
    "from sklearn.linear_model import LogisticRegression\n",
    "logreg = LogisticRegression()\n",
    "rfe = RFE(logreg,20)\n",
    "rfe = rfe.fit(data_final[X],data_final[y].values.ravel())\n",
    "print(rfe.support_)\n",
    "print(rfe.ranking_)"
   ]
  },
  {
   "cell_type": "code",
   "execution_count": 14,
   "metadata": {},
   "outputs": [
    {
     "data": {
      "text/html": "<div>\n<style scoped>\n    .dataframe tbody tr th:only-of-type {\n        vertical-align: middle;\n    }\n\n    .dataframe tbody tr th {\n        vertical-align: top;\n    }\n\n    .dataframe thead th {\n        text-align: right;\n    }\n</style>\n<table border=\"1\" class=\"dataframe\">\n  <thead>\n    <tr style=\"text-align: right;\">\n      <th></th>\n      <th>merged_or_not</th>\n      <th>num_commits</th>\n      <th>num_commit_comments</th>\n      <th>num_issue_comments</th>\n      <th>requester_succ_rate</th>\n      <th>pr_succ_rate</th>\n      <th>perc_contrib_neg_emo</th>\n      <th>perc_contrib_pos_emo</th>\n      <th>perc_contrib_neu_emo</th>\n      <th>social_strength</th>\n      <th>...</th>\n      <th>contrib_country_antarctica</th>\n      <th>contrib_country_central_and_southern_asia</th>\n      <th>contrib_country_eastern_and_south_eastern_asia</th>\n      <th>contrib_country_europe_and_northern_america</th>\n      <th>contrib_country_gibraltar</th>\n      <th>contrib_country_latin_america_and_the_caribbean</th>\n      <th>contrib_country_northern_africa_and_western_asia</th>\n      <th>contrib_country_oceania</th>\n      <th>contrib_country_pitcairn islands</th>\n      <th>contrib_country_sub_saharan_africa</th>\n    </tr>\n  </thead>\n  <tbody>\n    <tr>\n      <th>2</th>\n      <td>1</td>\n      <td>1</td>\n      <td>0</td>\n      <td>0</td>\n      <td>0.987654</td>\n      <td>0.996324</td>\n      <td>0.0</td>\n      <td>0.000000</td>\n      <td>0.000000</td>\n      <td>0.428571</td>\n      <td>...</td>\n      <td>0</td>\n      <td>0</td>\n      <td>1</td>\n      <td>0</td>\n      <td>0</td>\n      <td>0</td>\n      <td>0</td>\n      <td>0</td>\n      <td>0</td>\n      <td>0</td>\n    </tr>\n    <tr>\n      <th>11</th>\n      <td>1</td>\n      <td>4</td>\n      <td>0</td>\n      <td>0</td>\n      <td>0.956522</td>\n      <td>0.984000</td>\n      <td>0.0</td>\n      <td>0.000000</td>\n      <td>0.000000</td>\n      <td>0.384615</td>\n      <td>...</td>\n      <td>0</td>\n      <td>0</td>\n      <td>0</td>\n      <td>0</td>\n      <td>0</td>\n      <td>1</td>\n      <td>0</td>\n      <td>0</td>\n      <td>0</td>\n      <td>0</td>\n    </tr>\n    <tr>\n      <th>16</th>\n      <td>1</td>\n      <td>3</td>\n      <td>0</td>\n      <td>0</td>\n      <td>0.982801</td>\n      <td>0.947674</td>\n      <td>0.0</td>\n      <td>0.000000</td>\n      <td>0.000000</td>\n      <td>0.238095</td>\n      <td>...</td>\n      <td>0</td>\n      <td>0</td>\n      <td>0</td>\n      <td>1</td>\n      <td>0</td>\n      <td>0</td>\n      <td>0</td>\n      <td>0</td>\n      <td>0</td>\n      <td>0</td>\n    </tr>\n    <tr>\n      <th>21</th>\n      <td>1</td>\n      <td>1</td>\n      <td>0</td>\n      <td>0</td>\n      <td>1.000000</td>\n      <td>1.000000</td>\n      <td>0.0</td>\n      <td>0.000000</td>\n      <td>0.000000</td>\n      <td>0.333333</td>\n      <td>...</td>\n      <td>0</td>\n      <td>0</td>\n      <td>0</td>\n      <td>1</td>\n      <td>0</td>\n      <td>0</td>\n      <td>0</td>\n      <td>0</td>\n      <td>0</td>\n      <td>0</td>\n    </tr>\n    <tr>\n      <th>22</th>\n      <td>1</td>\n      <td>1</td>\n      <td>0</td>\n      <td>1</td>\n      <td>0.978142</td>\n      <td>0.984252</td>\n      <td>0.0</td>\n      <td>0.000000</td>\n      <td>0.000000</td>\n      <td>0.857143</td>\n      <td>...</td>\n      <td>0</td>\n      <td>0</td>\n      <td>0</td>\n      <td>1</td>\n      <td>0</td>\n      <td>0</td>\n      <td>0</td>\n      <td>0</td>\n      <td>0</td>\n      <td>0</td>\n    </tr>\n    <tr>\n      <th>...</th>\n      <td>...</td>\n      <td>...</td>\n      <td>...</td>\n      <td>...</td>\n      <td>...</td>\n      <td>...</td>\n      <td>...</td>\n      <td>...</td>\n      <td>...</td>\n      <td>...</td>\n      <td>...</td>\n      <td>...</td>\n      <td>...</td>\n      <td>...</td>\n      <td>...</td>\n      <td>...</td>\n      <td>...</td>\n      <td>...</td>\n      <td>...</td>\n      <td>...</td>\n      <td>...</td>\n    </tr>\n    <tr>\n      <th>3347926</th>\n      <td>1</td>\n      <td>1</td>\n      <td>0</td>\n      <td>0</td>\n      <td>1.000000</td>\n      <td>0.984252</td>\n      <td>0.0</td>\n      <td>0.000000</td>\n      <td>0.000000</td>\n      <td>0.066667</td>\n      <td>...</td>\n      <td>0</td>\n      <td>0</td>\n      <td>0</td>\n      <td>1</td>\n      <td>0</td>\n      <td>0</td>\n      <td>0</td>\n      <td>0</td>\n      <td>0</td>\n      <td>0</td>\n    </tr>\n    <tr>\n      <th>3347927</th>\n      <td>1</td>\n      <td>2</td>\n      <td>0</td>\n      <td>2</td>\n      <td>0.993220</td>\n      <td>0.993548</td>\n      <td>0.0</td>\n      <td>0.000000</td>\n      <td>0.000000</td>\n      <td>0.333333</td>\n      <td>...</td>\n      <td>0</td>\n      <td>0</td>\n      <td>0</td>\n      <td>1</td>\n      <td>0</td>\n      <td>0</td>\n      <td>0</td>\n      <td>0</td>\n      <td>0</td>\n      <td>0</td>\n    </tr>\n    <tr>\n      <th>3347930</th>\n      <td>1</td>\n      <td>3</td>\n      <td>0</td>\n      <td>1</td>\n      <td>0.920000</td>\n      <td>0.975490</td>\n      <td>0.0</td>\n      <td>0.500000</td>\n      <td>0.500000</td>\n      <td>0.421053</td>\n      <td>...</td>\n      <td>0</td>\n      <td>0</td>\n      <td>0</td>\n      <td>1</td>\n      <td>0</td>\n      <td>0</td>\n      <td>0</td>\n      <td>0</td>\n      <td>0</td>\n      <td>0</td>\n    </tr>\n    <tr>\n      <th>3347933</th>\n      <td>0</td>\n      <td>1</td>\n      <td>0</td>\n      <td>3</td>\n      <td>0.988029</td>\n      <td>0.965155</td>\n      <td>0.0</td>\n      <td>0.000000</td>\n      <td>1.000000</td>\n      <td>0.268293</td>\n      <td>...</td>\n      <td>0</td>\n      <td>0</td>\n      <td>0</td>\n      <td>1</td>\n      <td>0</td>\n      <td>0</td>\n      <td>0</td>\n      <td>0</td>\n      <td>0</td>\n      <td>0</td>\n    </tr>\n    <tr>\n      <th>3347934</th>\n      <td>1</td>\n      <td>2</td>\n      <td>0</td>\n      <td>15</td>\n      <td>1.000000</td>\n      <td>0.992126</td>\n      <td>0.0</td>\n      <td>0.285714</td>\n      <td>0.714286</td>\n      <td>0.083333</td>\n      <td>...</td>\n      <td>0</td>\n      <td>0</td>\n      <td>0</td>\n      <td>1</td>\n      <td>0</td>\n      <td>0</td>\n      <td>0</td>\n      <td>0</td>\n      <td>0</td>\n      <td>0</td>\n    </tr>\n  </tbody>\n</table>\n<p>946280 rows × 25 columns</p>\n</div>",
      "text/plain": "         merged_or_not  num_commits  num_commit_comments  num_issue_comments  \\\n2                    1            1                    0                   0   \n11                   1            4                    0                   0   \n16                   1            3                    0                   0   \n21                   1            1                    0                   0   \n22                   1            1                    0                   1   \n...                ...          ...                  ...                 ...   \n3347926              1            1                    0                   0   \n3347927              1            2                    0                   2   \n3347930              1            3                    0                   1   \n3347933              0            1                    0                   3   \n3347934              1            2                    0                  15   \n\n         requester_succ_rate  pr_succ_rate  perc_contrib_neg_emo  \\\n2                   0.987654      0.996324                   0.0   \n11                  0.956522      0.984000                   0.0   \n16                  0.982801      0.947674                   0.0   \n21                  1.000000      1.000000                   0.0   \n22                  0.978142      0.984252                   0.0   \n...                      ...           ...                   ...   \n3347926             1.000000      0.984252                   0.0   \n3347927             0.993220      0.993548                   0.0   \n3347930             0.920000      0.975490                   0.0   \n3347933             0.988029      0.965155                   0.0   \n3347934             1.000000      0.992126                   0.0   \n\n         perc_contrib_pos_emo  perc_contrib_neu_emo  social_strength  ...  \\\n2                    0.000000              0.000000         0.428571  ...   \n11                   0.000000              0.000000         0.384615  ...   \n16                   0.000000              0.000000         0.238095  ...   \n21                   0.000000              0.000000         0.333333  ...   \n22                   0.000000              0.000000         0.857143  ...   \n...                       ...                   ...              ...  ...   \n3347926              0.000000              0.000000         0.066667  ...   \n3347927              0.000000              0.000000         0.333333  ...   \n3347930              0.500000              0.500000         0.421053  ...   \n3347933              0.000000              1.000000         0.268293  ...   \n3347934              0.285714              0.714286         0.083333  ...   \n\n         contrib_country_antarctica  \\\n2                                 0   \n11                                0   \n16                                0   \n21                                0   \n22                                0   \n...                             ...   \n3347926                           0   \n3347927                           0   \n3347930                           0   \n3347933                           0   \n3347934                           0   \n\n         contrib_country_central_and_southern_asia  \\\n2                                                0   \n11                                               0   \n16                                               0   \n21                                               0   \n22                                               0   \n...                                            ...   \n3347926                                          0   \n3347927                                          0   \n3347930                                          0   \n3347933                                          0   \n3347934                                          0   \n\n         contrib_country_eastern_and_south_eastern_asia  \\\n2                                                     1   \n11                                                    0   \n16                                                    0   \n21                                                    0   \n22                                                    0   \n...                                                 ...   \n3347926                                               0   \n3347927                                               0   \n3347930                                               0   \n3347933                                               0   \n3347934                                               0   \n\n         contrib_country_europe_and_northern_america  \\\n2                                                  0   \n11                                                 0   \n16                                                 1   \n21                                                 1   \n22                                                 1   \n...                                              ...   \n3347926                                            1   \n3347927                                            1   \n3347930                                            1   \n3347933                                            1   \n3347934                                            1   \n\n         contrib_country_gibraltar  \\\n2                                0   \n11                               0   \n16                               0   \n21                               0   \n22                               0   \n...                            ...   \n3347926                          0   \n3347927                          0   \n3347930                          0   \n3347933                          0   \n3347934                          0   \n\n         contrib_country_latin_america_and_the_caribbean  \\\n2                                                      0   \n11                                                     1   \n16                                                     0   \n21                                                     0   \n22                                                     0   \n...                                                  ...   \n3347926                                                0   \n3347927                                                0   \n3347930                                                0   \n3347933                                                0   \n3347934                                                0   \n\n         contrib_country_northern_africa_and_western_asia  \\\n2                                                       0   \n11                                                      0   \n16                                                      0   \n21                                                      0   \n22                                                      0   \n...                                                   ...   \n3347926                                                 0   \n3347927                                                 0   \n3347930                                                 0   \n3347933                                                 0   \n3347934                                                 0   \n\n         contrib_country_oceania  contrib_country_pitcairn islands  \\\n2                              0                                 0   \n11                             0                                 0   \n16                             0                                 0   \n21                             0                                 0   \n22                             0                                 0   \n...                          ...                               ...   \n3347926                        0                                 0   \n3347927                        0                                 0   \n3347930                        0                                 0   \n3347933                        0                                 0   \n3347934                        0                                 0   \n\n         contrib_country_sub_saharan_africa  \n2                                         0  \n11                                        0  \n16                                        0  \n21                                        0  \n22                                        0  \n...                                     ...  \n3347926                                   0  \n3347927                                   0  \n3347930                                   0  \n3347933                                   0  \n3347934                                   0  \n\n[946280 rows x 25 columns]"
     },
     "execution_count": 14,
     "metadata": {},
     "output_type": "execute_result"
    }
   ],
   "source": [
    "data_final = data\n",
    "data_vars = data_final.columns.values.tolist()\n",
    "to_remove = [ 'lifetime_minutes','files_changed','watchers',\n",
    " 'prev_pullreqs', 'followers','account_creation_days', 'integrator_availability']\n",
    "to_keep=[i for i in data_vars if i not in to_remove]\n",
    "data_final= data_final[to_keep]\n",
    "data_final"
   ]
  },
  {
   "cell_type": "code",
   "execution_count": 18,
   "metadata": {},
   "outputs": [],
   "source": [
    "data_vars = data_final.columns.values.tolist()\n",
    "y=['merged_or_not']\n"
   ]
  },
  {
   "cell_type": "code",
   "execution_count": 19,
   "metadata": {},
   "outputs": [
    {
     "data": {
      "text/plain": "['num_commits',\n 'num_commit_comments',\n 'num_issue_comments',\n 'requester_succ_rate',\n 'pr_succ_rate',\n 'perc_contrib_neg_emo',\n 'perc_contrib_pos_emo',\n 'perc_contrib_neu_emo',\n 'social_strength',\n 'same_country',\n 'friday_effect',\n 'contrib_gender_female',\n 'contrib_gender_male',\n 'contrib_country_antarctica',\n 'contrib_country_central_and_southern_asia',\n 'contrib_country_eastern_and_south_eastern_asia',\n 'contrib_country_europe_and_northern_america',\n 'contrib_country_gibraltar',\n 'contrib_country_latin_america_and_the_caribbean',\n 'contrib_country_northern_africa_and_western_asia',\n 'contrib_country_oceania',\n 'contrib_country_pitcairn islands',\n 'contrib_country_sub_saharan_africa']"
     },
     "execution_count": 19,
     "metadata": {},
     "output_type": "execute_result"
    }
   ],
   "source": [
    "X=[i for i in data_vars if i not in y]\n",
    "\n",
    "X"
   ]
  },
  {
   "cell_type": "code",
   "execution_count": 8,
   "metadata": {},
   "outputs": [],
   "source": [
    "import statsmodels.api as sm\n",
    "\n"
   ]
  },
  {
   "cell_type": "code",
   "execution_count": null,
   "metadata": {},
   "outputs": [],
   "source": []
  },
  {
   "cell_type": "code",
   "execution_count": 9,
   "metadata": {},
   "outputs": [
    {
     "name": "stdout",
     "output_type": "stream",
     "text": [
      "Optimization terminated successfully.\n",
      "         Current function value: 0.431374\n",
      "         Iterations 6\n",
      "                                              Results: Logit\n",
      "==========================================================================================================\n",
      "Model:                            Logit                         Pseudo R-squared:              0.052      \n",
      "Dependent Variable:               merged_or_not                 AIC:                           816438.3499\n",
      "Date:                             2021-07-03 11:54              BIC:                           816661.7954\n",
      "No. Observations:                 946280                        Log-Likelihood:                -4.0820e+05\n",
      "Df Model:                         18                            LL-Null:                       -4.3074e+05\n",
      "Df Residuals:                     946261                        LLR p-value:                   0.0000     \n",
      "Converged:                        1.0000                        Scale:                         1.0000     \n",
      "No. Iterations:                   6.0000                                                                  \n",
      "----------------------------------------------------------------------------------------------------------\n",
      "                                                  Coef.   Std.Err.     z     P>|z|     [0.025     0.975]  \n",
      "----------------------------------------------------------------------------------------------------------\n",
      "num_commits                                      -0.0021     0.0002 -12.7466 0.0000     -0.0025    -0.0018\n",
      "num_commit_comments                              -0.0283     0.0033  -8.6120 0.0000     -0.0348    -0.0219\n",
      "num_issue_comments                               -0.0241     0.0005 -45.0912 0.0000     -0.0251    -0.0230\n",
      "requester_succ_rate                               0.8260     0.0083  99.0323 0.0000      0.8096     0.8423\n",
      "pr_succ_rate                                      3.1824     0.0609  52.2592 0.0000      3.0630     3.3017\n",
      "perc_contrib_neg_emo                             -0.8350     0.0176 -47.5098 0.0000     -0.8694    -0.8005\n",
      "perc_contrib_pos_emo                             -0.2062     0.0141 -14.5904 0.0000     -0.2339    -0.1785\n",
      "perc_contrib_neu_emo                             -0.4287     0.0071 -60.7850 0.0000     -0.4425    -0.4149\n",
      "social_strength                                   1.1432     0.0139  82.3118 0.0000      1.1159     1.1704\n",
      "same_country                                     -0.3949     0.0078 -50.8812 0.0000     -0.4101    -0.3797\n",
      "friday_effect                                     0.0004     0.0076   0.0499 0.9602     -0.0144     0.0152\n",
      "contrib_gender_female                            -1.5378 40895.4754  -0.0000 1.0000 -80155.1968 80152.1211\n",
      "contrib_gender_male                              -1.5606 40895.4754  -0.0000 1.0000 -80155.2196 80152.0983\n",
      "contrib_country_central_and_southern_asia        -0.6043 40895.4754  -0.0000 1.0000 -80154.2632 80153.0547\n",
      "contrib_country_eastern_and_south_eastern_asia   -0.5591 40895.4754  -0.0000 1.0000 -80154.2180 80153.0999\n",
      "contrib_country_europe_and_northern_america      -0.3252 40895.4754  -0.0000 1.0000 -80153.9842 80153.3337\n",
      "contrib_country_latin_america_and_the_caribbean  -0.4226 40895.4754  -0.0000 1.0000 -80154.0815 80153.2363\n",
      "contrib_country_northern_africa_and_western_asia -0.4289 40895.4754  -0.0000 1.0000 -80154.0878 80153.2301\n",
      "contrib_country_oceania                          -0.3379 40895.4754  -0.0000 1.0000 -80153.9969 80153.3210\n",
      "contrib_country_sub_saharan_africa               -0.4204 40895.4754  -0.0000 1.0000 -80154.0794 80153.2385\n",
      "==========================================================================================================\n",
      "\n"
     ]
    }
   ],
   "source": [
    "\n",
    "logit_model=sm.Logit(data_final[y],data_final[X])\n",
    "result=logit_model.fit(maxiter=200)\n",
    "print(result.summary2())"
   ]
  },
  {
   "cell_type": "code",
   "execution_count": 1,
   "metadata": {},
   "outputs": [],
   "source": [
    "import pandas as pd\n",
    "\n",
    "data = pd.read_csv(\"final_data.csv\")"
   ]
  },
  {
   "cell_type": "code",
   "execution_count": 20,
   "metadata": {},
   "outputs": [],
   "source": [
    "import pandas as pd\n",
    "\n",
    "data = pd.read_csv(\"../new_pullreq.csv\")"
   ]
  },
  {
   "cell_type": "code",
   "execution_count": 2,
   "metadata": {},
   "outputs": [
    {
     "data": {
      "text/plain": "merged_or_not                                       7.858260e+05\nnum_commits                                         4.191371e+06\nnum_commit_comments                                 3.917600e+04\nnum_issue_comments                                  1.891376e+06\nrequester_succ_rate                                 8.218046e+05\npr_succ_rate                                        9.178824e+05\nperc_contrib_neg_emo                                2.744448e+04\nperc_contrib_pos_emo                                5.164065e+04\nperc_contrib_neu_emo                                2.413989e+05\nsocial_strength                                     2.584284e+05\nsame_country                                        7.747430e+05\nfriday_effect                                       1.583140e+05\ncontrib_gender_female                               7.801000e+04\ncontrib_gender_male                                 8.682700e+05\ncontrib_country_central_and_southern_asia           7.716000e+03\ncontrib_country_eastern_and_south_eastern_asia      5.166000e+04\ncontrib_country_europe_and_northern_america         8.291690e+05\ncontrib_country_latin_america_and_the_caribbean     2.467300e+04\ncontrib_country_northern_africa_and_western_asia    9.784000e+03\ncontrib_country_oceania                             1.922000e+04\ncontrib_country_sub_saharan_africa                  4.058000e+03\ndtype: float64"
     },
     "execution_count": 2,
     "metadata": {},
     "output_type": "execute_result"
    }
   ],
   "source": [
    "data.sum()"
   ]
  }
 ],
 "metadata": {
  "kernelspec": {
   "display_name": "Python 3.8.10 64-bit",
   "name": "python3810jvsc74a57bd0df0893f56f349688326838aaeea0de204df53a132722cbd565e54b24a8fec5f6"
  },
  "language_info": {
   "codemirror_mode": {
    "name": "ipython",
    "version": 3
   },
   "file_extension": ".py",
   "mimetype": "text/x-python",
   "name": "python",
   "nbconvert_exporter": "python",
   "pygments_lexer": "ipython3",
   "version": "3.8.10"
  },
  "metadata": {
   "interpreter": {
    "hash": "df0893f56f349688326838aaeea0de204df53a132722cbd565e54b24a8fec5f6"
   }
  },
  "orig_nbformat": 2
 },
 "nbformat": 4,
 "nbformat_minor": 2
}