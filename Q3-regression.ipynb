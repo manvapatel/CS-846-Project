{
 "cells": [
  {
   "cell_type": "code",
   "execution_count": 11,
   "metadata": {},
   "outputs": [
    {
     "ename": "KeyboardInterrupt",
     "evalue": "",
     "output_type": "error",
     "traceback": [
      "\u001b[0;31m---------------------------------------------------------------------------\u001b[0m",
      "\u001b[0;31mKeyboardInterrupt\u001b[0m                         Traceback (most recent call last)",
      "\u001b[0;32m<ipython-input-11-94157ab5bb7f>\u001b[0m in \u001b[0;36m<module>\u001b[0;34m\u001b[0m\n\u001b[1;32m      1\u001b[0m \u001b[0;32mimport\u001b[0m \u001b[0mpandas\u001b[0m \u001b[0;32mas\u001b[0m \u001b[0mpd\u001b[0m\u001b[0;34m\u001b[0m\u001b[0;34m\u001b[0m\u001b[0m\n\u001b[1;32m      2\u001b[0m \u001b[0;34m\u001b[0m\u001b[0m\n\u001b[0;32m----> 3\u001b[0;31m \u001b[0mdata\u001b[0m \u001b[0;34m=\u001b[0m \u001b[0mpd\u001b[0m\u001b[0;34m.\u001b[0m\u001b[0mread_csv\u001b[0m\u001b[0;34m(\u001b[0m\u001b[0;34m\"../data/new_pullreq.csv\"\u001b[0m\u001b[0;34m)\u001b[0m\u001b[0;34m\u001b[0m\u001b[0;34m\u001b[0m\u001b[0m\n\u001b[0m",
      "\u001b[0;32m~/.local/lib/python3.8/site-packages/pandas/io/parsers.py\u001b[0m in \u001b[0;36mread_csv\u001b[0;34m(filepath_or_buffer, sep, delimiter, header, names, index_col, usecols, squeeze, prefix, mangle_dupe_cols, dtype, engine, converters, true_values, false_values, skipinitialspace, skiprows, skipfooter, nrows, na_values, keep_default_na, na_filter, verbose, skip_blank_lines, parse_dates, infer_datetime_format, keep_date_col, date_parser, dayfirst, cache_dates, iterator, chunksize, compression, thousands, decimal, lineterminator, quotechar, quoting, doublequote, escapechar, comment, encoding, dialect, error_bad_lines, warn_bad_lines, delim_whitespace, low_memory, memory_map, float_precision, storage_options)\u001b[0m\n\u001b[1;32m    608\u001b[0m     \u001b[0mkwds\u001b[0m\u001b[0;34m.\u001b[0m\u001b[0mupdate\u001b[0m\u001b[0;34m(\u001b[0m\u001b[0mkwds_defaults\u001b[0m\u001b[0;34m)\u001b[0m\u001b[0;34m\u001b[0m\u001b[0;34m\u001b[0m\u001b[0m\n\u001b[1;32m    609\u001b[0m \u001b[0;34m\u001b[0m\u001b[0m\n\u001b[0;32m--> 610\u001b[0;31m     \u001b[0;32mreturn\u001b[0m \u001b[0m_read\u001b[0m\u001b[0;34m(\u001b[0m\u001b[0mfilepath_or_buffer\u001b[0m\u001b[0;34m,\u001b[0m \u001b[0mkwds\u001b[0m\u001b[0;34m)\u001b[0m\u001b[0;34m\u001b[0m\u001b[0;34m\u001b[0m\u001b[0m\n\u001b[0m\u001b[1;32m    611\u001b[0m \u001b[0;34m\u001b[0m\u001b[0m\n\u001b[1;32m    612\u001b[0m \u001b[0;34m\u001b[0m\u001b[0m\n",
      "\u001b[0;32m~/.local/lib/python3.8/site-packages/pandas/io/parsers.py\u001b[0m in \u001b[0;36m_read\u001b[0;34m(filepath_or_buffer, kwds)\u001b[0m\n\u001b[1;32m    466\u001b[0m \u001b[0;34m\u001b[0m\u001b[0m\n\u001b[1;32m    467\u001b[0m     \u001b[0;32mwith\u001b[0m \u001b[0mparser\u001b[0m\u001b[0;34m:\u001b[0m\u001b[0;34m\u001b[0m\u001b[0;34m\u001b[0m\u001b[0m\n\u001b[0;32m--> 468\u001b[0;31m         \u001b[0;32mreturn\u001b[0m \u001b[0mparser\u001b[0m\u001b[0;34m.\u001b[0m\u001b[0mread\u001b[0m\u001b[0;34m(\u001b[0m\u001b[0mnrows\u001b[0m\u001b[0;34m)\u001b[0m\u001b[0;34m\u001b[0m\u001b[0;34m\u001b[0m\u001b[0m\n\u001b[0m\u001b[1;32m    469\u001b[0m \u001b[0;34m\u001b[0m\u001b[0m\n\u001b[1;32m    470\u001b[0m \u001b[0;34m\u001b[0m\u001b[0m\n",
      "\u001b[0;32m~/.local/lib/python3.8/site-packages/pandas/io/parsers.py\u001b[0m in \u001b[0;36mread\u001b[0;34m(self, nrows)\u001b[0m\n\u001b[1;32m   1055\u001b[0m     \u001b[0;32mdef\u001b[0m \u001b[0mread\u001b[0m\u001b[0;34m(\u001b[0m\u001b[0mself\u001b[0m\u001b[0;34m,\u001b[0m \u001b[0mnrows\u001b[0m\u001b[0;34m=\u001b[0m\u001b[0;32mNone\u001b[0m\u001b[0;34m)\u001b[0m\u001b[0;34m:\u001b[0m\u001b[0;34m\u001b[0m\u001b[0;34m\u001b[0m\u001b[0m\n\u001b[1;32m   1056\u001b[0m         \u001b[0mnrows\u001b[0m \u001b[0;34m=\u001b[0m \u001b[0mvalidate_integer\u001b[0m\u001b[0;34m(\u001b[0m\u001b[0;34m\"nrows\"\u001b[0m\u001b[0;34m,\u001b[0m \u001b[0mnrows\u001b[0m\u001b[0;34m)\u001b[0m\u001b[0;34m\u001b[0m\u001b[0;34m\u001b[0m\u001b[0m\n\u001b[0;32m-> 1057\u001b[0;31m         \u001b[0mindex\u001b[0m\u001b[0;34m,\u001b[0m \u001b[0mcolumns\u001b[0m\u001b[0;34m,\u001b[0m \u001b[0mcol_dict\u001b[0m \u001b[0;34m=\u001b[0m \u001b[0mself\u001b[0m\u001b[0;34m.\u001b[0m\u001b[0m_engine\u001b[0m\u001b[0;34m.\u001b[0m\u001b[0mread\u001b[0m\u001b[0;34m(\u001b[0m\u001b[0mnrows\u001b[0m\u001b[0;34m)\u001b[0m\u001b[0;34m\u001b[0m\u001b[0;34m\u001b[0m\u001b[0m\n\u001b[0m\u001b[1;32m   1058\u001b[0m \u001b[0;34m\u001b[0m\u001b[0m\n\u001b[1;32m   1059\u001b[0m         \u001b[0;32mif\u001b[0m \u001b[0mindex\u001b[0m \u001b[0;32mis\u001b[0m \u001b[0;32mNone\u001b[0m\u001b[0;34m:\u001b[0m\u001b[0;34m\u001b[0m\u001b[0;34m\u001b[0m\u001b[0m\n",
      "\u001b[0;32m~/.local/lib/python3.8/site-packages/pandas/io/parsers.py\u001b[0m in \u001b[0;36mread\u001b[0;34m(self, nrows)\u001b[0m\n\u001b[1;32m   2034\u001b[0m     \u001b[0;32mdef\u001b[0m \u001b[0mread\u001b[0m\u001b[0;34m(\u001b[0m\u001b[0mself\u001b[0m\u001b[0;34m,\u001b[0m \u001b[0mnrows\u001b[0m\u001b[0;34m=\u001b[0m\u001b[0;32mNone\u001b[0m\u001b[0;34m)\u001b[0m\u001b[0;34m:\u001b[0m\u001b[0;34m\u001b[0m\u001b[0;34m\u001b[0m\u001b[0m\n\u001b[1;32m   2035\u001b[0m         \u001b[0;32mtry\u001b[0m\u001b[0;34m:\u001b[0m\u001b[0;34m\u001b[0m\u001b[0;34m\u001b[0m\u001b[0m\n\u001b[0;32m-> 2036\u001b[0;31m             \u001b[0mdata\u001b[0m \u001b[0;34m=\u001b[0m \u001b[0mself\u001b[0m\u001b[0;34m.\u001b[0m\u001b[0m_reader\u001b[0m\u001b[0;34m.\u001b[0m\u001b[0mread\u001b[0m\u001b[0;34m(\u001b[0m\u001b[0mnrows\u001b[0m\u001b[0;34m)\u001b[0m\u001b[0;34m\u001b[0m\u001b[0;34m\u001b[0m\u001b[0m\n\u001b[0m\u001b[1;32m   2037\u001b[0m         \u001b[0;32mexcept\u001b[0m \u001b[0mStopIteration\u001b[0m\u001b[0;34m:\u001b[0m\u001b[0;34m\u001b[0m\u001b[0;34m\u001b[0m\u001b[0m\n\u001b[1;32m   2038\u001b[0m             \u001b[0;32mif\u001b[0m \u001b[0mself\u001b[0m\u001b[0;34m.\u001b[0m\u001b[0m_first_chunk\u001b[0m\u001b[0;34m:\u001b[0m\u001b[0;34m\u001b[0m\u001b[0;34m\u001b[0m\u001b[0m\n",
      "\u001b[0;32mpandas/_libs/parsers.pyx\u001b[0m in \u001b[0;36mpandas._libs.parsers.TextReader.read\u001b[0;34m()\u001b[0m\n",
      "\u001b[0;32mpandas/_libs/parsers.pyx\u001b[0m in \u001b[0;36mpandas._libs.parsers.TextReader._read_low_memory\u001b[0;34m()\u001b[0m\n",
      "\u001b[0;32mpandas/_libs/parsers.pyx\u001b[0m in \u001b[0;36mpandas._libs.parsers.TextReader._read_rows\u001b[0;34m()\u001b[0m\n",
      "\u001b[0;32mpandas/_libs/parsers.pyx\u001b[0m in \u001b[0;36mpandas._libs.parsers.TextReader._convert_column_data\u001b[0;34m()\u001b[0m\n",
      "\u001b[0;32mpandas/_libs/parsers.pyx\u001b[0m in \u001b[0;36mpandas._libs.parsers.TextReader._convert_tokens\u001b[0;34m()\u001b[0m\n",
      "\u001b[0;32mpandas/_libs/parsers.pyx\u001b[0m in \u001b[0;36mpandas._libs.parsers.TextReader._convert_with_dtype\u001b[0;34m()\u001b[0m\n",
      "\u001b[0;32m~/.local/lib/python3.8/site-packages/pandas/core/dtypes/common.py\u001b[0m in \u001b[0;36mis_categorical_dtype\u001b[0;34m(arr_or_dtype)\u001b[0m\n\u001b[1;32m    535\u001b[0m \u001b[0;34m\u001b[0m\u001b[0m\n\u001b[1;32m    536\u001b[0m \u001b[0;34m\u001b[0m\u001b[0m\n\u001b[0;32m--> 537\u001b[0;31m \u001b[0;32mdef\u001b[0m \u001b[0mis_categorical_dtype\u001b[0m\u001b[0;34m(\u001b[0m\u001b[0marr_or_dtype\u001b[0m\u001b[0;34m)\u001b[0m \u001b[0;34m->\u001b[0m \u001b[0mbool\u001b[0m\u001b[0;34m:\u001b[0m\u001b[0;34m\u001b[0m\u001b[0;34m\u001b[0m\u001b[0m\n\u001b[0m\u001b[1;32m    538\u001b[0m     \"\"\"\n\u001b[1;32m    539\u001b[0m     \u001b[0mCheck\u001b[0m \u001b[0mwhether\u001b[0m \u001b[0man\u001b[0m \u001b[0marray\u001b[0m\u001b[0;34m-\u001b[0m\u001b[0mlike\u001b[0m \u001b[0;32mor\u001b[0m \u001b[0mdtype\u001b[0m \u001b[0;32mis\u001b[0m \u001b[0mof\u001b[0m \u001b[0mthe\u001b[0m \u001b[0mCategorical\u001b[0m \u001b[0mdtype\u001b[0m\u001b[0;34m.\u001b[0m\u001b[0;34m\u001b[0m\u001b[0;34m\u001b[0m\u001b[0m\n",
      "\u001b[0;31mKeyboardInterrupt\u001b[0m: "
     ]
    }
   ],
   "source": [
    "import pandas as pd\n",
    "\n",
    "data = pd.read_csv(\"../data/new_pullreq.csv\")"
   ]
  },
  {
   "cell_type": "code",
   "execution_count": 2,
   "metadata": {},
   "outputs": [
    {
     "data": {
      "text/html": "<div>\n<style scoped>\n    .dataframe tbody tr th:only-of-type {\n        vertical-align: middle;\n    }\n\n    .dataframe tbody tr th {\n        vertical-align: top;\n    }\n\n    .dataframe thead th {\n        text-align: right;\n    }\n</style>\n<table border=\"1\" class=\"dataframe\">\n  <thead>\n    <tr style=\"text-align: right;\">\n      <th></th>\n      <th>id</th>\n      <th>project_id</th>\n      <th>ownername</th>\n      <th>reponame</th>\n      <th>merged_or_not</th>\n      <th>lifetime_minutes</th>\n      <th>mergetime_minutes</th>\n      <th>num_commits</th>\n      <th>src_churn</th>\n      <th>test_churn</th>\n      <th>...</th>\n      <th>other_comment</th>\n      <th>num_comments_con</th>\n      <th>num_code_comments</th>\n      <th>num_code_comments_con</th>\n      <th>integrator_availability</th>\n      <th>friday_effect</th>\n      <th>contrib_rate_author</th>\n      <th>reopen_or_not</th>\n      <th>first_close_minutes</th>\n      <th>reopen_num</th>\n    </tr>\n  </thead>\n  <tbody>\n    <tr>\n      <th>0</th>\n      <td>1</td>\n      <td>13708387</td>\n      <td>stylelint</td>\n      <td>stylelint</td>\n      <td>1</td>\n      <td>237</td>\n      <td>237.0</td>\n      <td>1</td>\n      <td>0</td>\n      <td>0</td>\n      <td>...</td>\n      <td>0</td>\n      <td>0</td>\n      <td>0</td>\n      <td>0</td>\n      <td>30.0</td>\n      <td>1</td>\n      <td>0.007948</td>\n      <td>0</td>\n      <td>237</td>\n      <td>0</td>\n    </tr>\n    <tr>\n      <th>1</th>\n      <td>2</td>\n      <td>100297899</td>\n      <td>Joaogarciadelima</td>\n      <td>checklistos</td>\n      <td>0</td>\n      <td>1410</td>\n      <td>NaN</td>\n      <td>1</td>\n      <td>0</td>\n      <td>0</td>\n      <td>...</td>\n      <td>0</td>\n      <td>2</td>\n      <td>0</td>\n      <td>0</td>\n      <td>597.0</td>\n      <td>0</td>\n      <td>0.830769</td>\n      <td>0</td>\n      <td>1410</td>\n      <td>0</td>\n    </tr>\n    <tr>\n      <th>2</th>\n      <td>3</td>\n      <td>93139005</td>\n      <td>binary-com</td>\n      <td>SmartCharts</td>\n      <td>1</td>\n      <td>4</td>\n      <td>4.0</td>\n      <td>1</td>\n      <td>0</td>\n      <td>0</td>\n      <td>...</td>\n      <td>0</td>\n      <td>0</td>\n      <td>0</td>\n      <td>0</td>\n      <td>2.0</td>\n      <td>0</td>\n      <td>0.314368</td>\n      <td>0</td>\n      <td>4</td>\n      <td>0</td>\n    </tr>\n    <tr>\n      <th>3</th>\n      <td>4</td>\n      <td>15059440</td>\n      <td>letsencrypt</td>\n      <td>boulder</td>\n      <td>1</td>\n      <td>52</td>\n      <td>52.0</td>\n      <td>1</td>\n      <td>9</td>\n      <td>104</td>\n      <td>...</td>\n      <td>0</td>\n      <td>0</td>\n      <td>0</td>\n      <td>0</td>\n      <td>1.0</td>\n      <td>0</td>\n      <td>0.117332</td>\n      <td>0</td>\n      <td>52</td>\n      <td>0</td>\n    </tr>\n    <tr>\n      <th>4</th>\n      <td>5</td>\n      <td>29684214</td>\n      <td>PyCQA</td>\n      <td>astroid</td>\n      <td>1</td>\n      <td>2414</td>\n      <td>2414.0</td>\n      <td>1</td>\n      <td>33</td>\n      <td>27</td>\n      <td>...</td>\n      <td>0</td>\n      <td>0</td>\n      <td>0</td>\n      <td>0</td>\n      <td>2.0</td>\n      <td>0</td>\n      <td>0.010753</td>\n      <td>0</td>\n      <td>2414</td>\n      <td>0</td>\n    </tr>\n  </tbody>\n</table>\n<p>5 rows × 118 columns</p>\n</div>",
      "text/plain": "   id  project_id         ownername     reponame  merged_or_not  \\\n0   1    13708387         stylelint    stylelint              1   \n1   2   100297899  Joaogarciadelima  checklistos              0   \n2   3    93139005        binary-com  SmartCharts              1   \n3   4    15059440       letsencrypt      boulder              1   \n4   5    29684214             PyCQA      astroid              1   \n\n   lifetime_minutes  mergetime_minutes  num_commits  src_churn  test_churn  \\\n0               237              237.0            1          0           0   \n1              1410                NaN            1          0           0   \n2                 4                4.0            1          0           0   \n3                52               52.0            1          9         104   \n4              2414             2414.0            1         33          27   \n\n   ...  other_comment  num_comments_con  num_code_comments  \\\n0  ...              0                 0                  0   \n1  ...              0                 2                  0   \n2  ...              0                 0                  0   \n3  ...              0                 0                  0   \n4  ...              0                 0                  0   \n\n   num_code_comments_con  integrator_availability  friday_effect  \\\n0                      0                     30.0              1   \n1                      0                    597.0              0   \n2                      0                      2.0              0   \n3                      0                      1.0              0   \n4                      0                      2.0              0   \n\n   contrib_rate_author  reopen_or_not  first_close_minutes  reopen_num  \n0             0.007948              0                  237           0  \n1             0.830769              0                 1410           0  \n2             0.314368              0                    4           0  \n3             0.117332              0                   52           0  \n4             0.010753              0                 2414           0  \n\n[5 rows x 118 columns]"
     },
     "execution_count": 2,
     "metadata": {},
     "output_type": "execute_result"
    }
   ],
   "source": [
    "data.head()"
   ]
  },
  {
   "cell_type": "code",
   "execution_count": 4,
   "metadata": {},
   "outputs": [],
   "source": [
    "data.head()\n",
    "data_vars=data.columns.values.tolist()\n",
    "data_vars\n",
    "to_keep = [ 'merged_or_not',\n",
    " 'lifetime_minutes', 'num_commits',\n",
    " 'files_changed','num_commit_comments',\n",
    " 'num_issue_comments',\n",
    " 'watchers', 'prev_pullreqs', 'requester_succ_rate',\n",
    " 'followers',\n",
    " 'pr_succ_rate','account_creation_days',\n",
    " 'contrib_gender',\n",
    " 'contrib_country','perc_neg_emotion',\n",
    " 'perc_pos_emotion',\n",
    " 'perc_neu_emotion',\n",
    " 'social_strength',\n",
    " 'same_country',\n",
    "  'integrator_availability',\n",
    " 'friday_effect'\n",
    "\n",
    "]\n",
    "data = data[to_keep]"
   ]
  },
  {
   "cell_type": "code",
   "execution_count": 5,
   "metadata": {},
   "outputs": [],
   "source": [
    "\n",
    "sub_saharan_africa = [\"angola\",\"benin\",\"botswana\",\"burkina faso\",\"burundi\",\"cabo verde\",\"cameroon\",\"central african republic\",\"chad\" \"comoros \",\"congo\",\"cote d'ivoire\",\"democratic republic of the congo\",\"djibouti\",\"equatorial guinea\",\"eritrea\",\"ethiopia\",\"gabon\",\"gambia\",\"ghana\",\"guinea\",\"guinea-bissau \",\"kenya\",\"lesotho\",\"liberia\",\"madagascar\",\"malawi\",\"mali\",\"mauritania\",\"mauritius\",\"mayotte\",\"mozambique\" \"namibia\",\"niger\",\"nigeria\",\"reunion\",\"rwanda\",\"sao tome and principe\",\"senegal\",\"seychelles\",\"sierra leone\",\"somalia\",\"south africa\",\"south sudan\",\"swaziland\",\"togo\",\"uganda\",\"tanzania\",\"zambia\",\"zimbabwe\"]\n",
    "northern_africa = [\"algeria\", \"egypt\", \"libya\", \"morocco\", \"sudan\", \"tunisia\", \"western sahara\"]\n",
    "western_asia =  [\"azerbaijan\", \"armenia\", \"bahrain\", \"cyprus\", \"georgia\", \"iraq\", \"israel\", \"jordan\", \"kuwait\", \"lebanon\", \"palestinian territories\", \"oman\", \"qatar\", \"saudi arabia\", \"syria\", \"turkey\", \"united arab emirates\", \"yemen\"]\n",
    "central_asia =[\"kazakhstan\", \"kyrgyzstan\", \"tajikistan\", \"turkmenistan\", \"uzbekistan\"]\n",
    "southern_asia = [\"afghanistan\", \"bangladesh\", \"bhutan\", \"india\", \"iran\", \"maldives\", \"nepal\", \"pakistan\", \"sri lanka\"]\n",
    "eastern_asia = [\"vietnam\",\"taiwan\",\"macau\",\"laos\",\"china\", \"hong kong\", \"china, macao sar\", \"south korea\", \"japan\", \"mongolia\", \"north korea\"]\n",
    "south_eastern_asia = [\"brunei\", \"cambodia\", \"indonesia\", \"lao people's democratic republic\", \"malaysia\", \"myanmar\", \"philippines\", \"singapore\", \"thailand\", \"timor-leste\", \"viet nam\"]\n",
    "caribbean = [\"anguilla\", \"antigua and barbuda\", \"aruba\", \"bahamas\", \"barbados\", \"bonaire, sint eustatius and saba\", \"virgin islands\", \"cayman islands\", \"cuba\", \"curacao\", \"dominica\", \"dominican republic\", \"grenada\", \"guadeloupe\", \"haiti\", \"jamaica\", \"martinique\", \"montserrat\", \"puerto rico\", \"saint kitts and nevis\", \"saint lucia\", \"saint vincent and the grenadines\", \"sint maarten (dutch part)\", \"trinidad and tobago\", \"turks and caicos islands\", \"united states virgin islands\"]\n",
    "central_america = [\"belize\", \"honduras\", \"costa rica\", \"el salvador\", \"guatemala\", \"mexico\", \"nicaragua\", \"panama\"]\n",
    "south_america = [\"argentina\", \"bolivia\", \"brazil\", \"chile\", \"colombia\", \"ecuador\", \"french guiana\", \"falkland islands (malvinas)\", \"south georgia & the south sandwich islands\", \"guyana\", \"paraguay\", \"peru\", \"suriname\", \"uruguay\", \"venezuela\"]\n",
    "australia_and_new_zealand = [\"australia\", \"christmas island\", \"cocos (keeling) islands\", \"heard island & mcdonald islands\", \"norfolk island\", \"new zealand\"]\n",
    "melanesia = [\"fiji\", \"new caledonia\", \"papua new guinea\", \"solomon islands\", \"vanuatu\"]\n",
    "micronesia = [\"kiribati\", \"marshall islands\", \"micronesia (federated states of)\", \"nauru\", \"northern mariana islands\", \"palau\", \"guam\"]\n",
    "polynesia = [\"french polynesia\", \"wallis and futuna island\", \"pitcairn\", \"cook islands\", \"niue\", \"tokelau\", \"tonga\", \"tuvalu\", \"american samoa\", \"samoa\"]\n",
    "northern_america = [\"bermuda\", \"canada\", \"greenland\", \"united states\"]\n",
    "eastern_europe = [\"bulgaria\", \"belarus\", \"czech republic\", \"hungary\", \"moldova\", \"poland\", \"romania\", \"russia\", \"slovakia\", \"ukraine\"]\n",
    "western_europe = [\"austria\", \"belgium\", \"switzerland\", \"germany\", \"france\", \"liechtenstein\", \"luxembourg\", \"monaco\", \"netherlands antilles\",\"netherlands\", \"jersey\", \"guernsey\"]\n",
    "northern_europe = [\"åland islands\", \"channel islands\", \"denmark\", \"estonia\", \"faroe islands\", \"finland\", \"isle of man\", \"united kingdom\", \"iceland\", \"ireland\", \"latvia\", \"lithuania\", \"norway\", \"sweden\"]\n",
    "southern_europe = [\"albania\", \"andorra\", \"bosnia and herzegovina\", \"croatia\", \"greece\", \"italy\", \"malta\", \"montenegro\", \"portugal\", \"san marino\", \"serbia\", \"slovenia\", \"spain\", \"macedonia\", \"kosovo\"]"
   ]
  },
  {
   "cell_type": "code",
   "execution_count": 6,
   "metadata": {},
   "outputs": [
    {
     "name": "stdout",
     "output_type": "stream",
     "text": [
      "(898693, 21)\n"
     ]
    },
    {
     "data": {
      "text/html": "<div>\n<style scoped>\n    .dataframe tbody tr th:only-of-type {\n        vertical-align: middle;\n    }\n\n    .dataframe tbody tr th {\n        vertical-align: top;\n    }\n\n    .dataframe thead th {\n        text-align: right;\n    }\n</style>\n<table border=\"1\" class=\"dataframe\">\n  <thead>\n    <tr style=\"text-align: right;\">\n      <th></th>\n      <th>merged_or_not</th>\n      <th>lifetime_minutes</th>\n      <th>num_commits</th>\n      <th>files_changed</th>\n      <th>num_commit_comments</th>\n      <th>num_issue_comments</th>\n      <th>watchers</th>\n      <th>prev_pullreqs</th>\n      <th>requester_succ_rate</th>\n      <th>followers</th>\n      <th>...</th>\n      <th>account_creation_days</th>\n      <th>contrib_gender</th>\n      <th>contrib_country</th>\n      <th>perc_neg_emotion</th>\n      <th>perc_pos_emotion</th>\n      <th>perc_neu_emotion</th>\n      <th>social_strength</th>\n      <th>same_country</th>\n      <th>integrator_availability</th>\n      <th>friday_effect</th>\n    </tr>\n  </thead>\n  <tbody>\n    <tr>\n      <th>2</th>\n      <td>1</td>\n      <td>4</td>\n      <td>1</td>\n      <td>1</td>\n      <td>0</td>\n      <td>0</td>\n      <td>5</td>\n      <td>81</td>\n      <td>0.987654</td>\n      <td>33</td>\n      <td>...</td>\n      <td>1884</td>\n      <td>male</td>\n      <td>malaysia</td>\n      <td>0.0</td>\n      <td>0.0</td>\n      <td>0.0</td>\n      <td>0.428571</td>\n      <td>1.0</td>\n      <td>2.0</td>\n      <td>0</td>\n    </tr>\n    <tr>\n      <th>11</th>\n      <td>1</td>\n      <td>20437</td>\n      <td>4</td>\n      <td>2</td>\n      <td>0</td>\n      <td>0</td>\n      <td>159</td>\n      <td>23</td>\n      <td>0.956522</td>\n      <td>555</td>\n      <td>...</td>\n      <td>2316</td>\n      <td>male</td>\n      <td>peru</td>\n      <td>0.0</td>\n      <td>0.0</td>\n      <td>1.0</td>\n      <td>0.384615</td>\n      <td>0.0</td>\n      <td>88.0</td>\n      <td>1</td>\n    </tr>\n    <tr>\n      <th>16</th>\n      <td>1</td>\n      <td>111</td>\n      <td>3</td>\n      <td>4</td>\n      <td>0</td>\n      <td>0</td>\n      <td>11145</td>\n      <td>407</td>\n      <td>0.982801</td>\n      <td>240</td>\n      <td>...</td>\n      <td>1993</td>\n      <td>male</td>\n      <td>united states</td>\n      <td>0.0</td>\n      <td>0.0</td>\n      <td>0.0</td>\n      <td>0.238095</td>\n      <td>1.0</td>\n      <td>98.0</td>\n      <td>0</td>\n    </tr>\n    <tr>\n      <th>21</th>\n      <td>1</td>\n      <td>0</td>\n      <td>1</td>\n      <td>2</td>\n      <td>0</td>\n      <td>0</td>\n      <td>45</td>\n      <td>41</td>\n      <td>1.000000</td>\n      <td>7</td>\n      <td>...</td>\n      <td>1790</td>\n      <td>male</td>\n      <td>united states</td>\n      <td>0.0</td>\n      <td>0.0</td>\n      <td>0.0</td>\n      <td>0.333333</td>\n      <td>1.0</td>\n      <td>1313.0</td>\n      <td>0</td>\n    </tr>\n    <tr>\n      <th>22</th>\n      <td>1</td>\n      <td>72</td>\n      <td>1</td>\n      <td>1</td>\n      <td>0</td>\n      <td>1</td>\n      <td>13</td>\n      <td>183</td>\n      <td>0.978142</td>\n      <td>34</td>\n      <td>...</td>\n      <td>2047</td>\n      <td>female</td>\n      <td>united states</td>\n      <td>0.0</td>\n      <td>0.0</td>\n      <td>0.0</td>\n      <td>0.857143</td>\n      <td>1.0</td>\n      <td>927.0</td>\n      <td>0</td>\n    </tr>\n  </tbody>\n</table>\n<p>5 rows × 21 columns</p>\n</div>",
      "text/plain": "    merged_or_not  lifetime_minutes  num_commits  files_changed  \\\n2               1                 4            1              1   \n11              1             20437            4              2   \n16              1               111            3              4   \n21              1                 0            1              2   \n22              1                72            1              1   \n\n    num_commit_comments  num_issue_comments  watchers  prev_pullreqs  \\\n2                     0                   0         5             81   \n11                    0                   0       159             23   \n16                    0                   0     11145            407   \n21                    0                   0        45             41   \n22                    0                   1        13            183   \n\n    requester_succ_rate  followers  ...  account_creation_days  \\\n2              0.987654         33  ...                   1884   \n11             0.956522        555  ...                   2316   \n16             0.982801        240  ...                   1993   \n21             1.000000          7  ...                   1790   \n22             0.978142         34  ...                   2047   \n\n    contrib_gender contrib_country perc_neg_emotion  perc_pos_emotion  \\\n2             male        malaysia              0.0               0.0   \n11            male            peru              0.0               0.0   \n16            male   united states              0.0               0.0   \n21            male   united states              0.0               0.0   \n22          female   united states              0.0               0.0   \n\n    perc_neu_emotion  social_strength  same_country  integrator_availability  \\\n2                0.0         0.428571           1.0                      2.0   \n11               1.0         0.384615           0.0                     88.0   \n16               0.0         0.238095           1.0                     98.0   \n21               0.0         0.333333           1.0                   1313.0   \n22               0.0         0.857143           1.0                    927.0   \n\n    friday_effect  \n2               0  \n11              1  \n16              0  \n21              0  \n22              0  \n\n[5 rows x 21 columns]"
     },
     "execution_count": 6,
     "metadata": {},
     "output_type": "execute_result"
    }
   ],
   "source": [
    "data_subset2 = data.dropna(subset=['contrib_gender', 'contrib_country','same_country','perc_neu_emotion','perc_neg_emotion','perc_pos_emotion'])\n",
    "print(data_subset2.shape)\n",
    "data_subset2.head()"
   ]
  },
  {
   "cell_type": "code",
   "execution_count": 7,
   "metadata": {},
   "outputs": [
    {
     "name": "stderr",
     "output_type": "stream",
     "text": [
      "/home/ssghorsh/.local/lib/python3.8/site-packages/pandas/core/indexing.py:1720: SettingWithCopyWarning: \n",
      "A value is trying to be set on a copy of a slice from a DataFrame.\n",
      "Try using .loc[row_indexer,col_indexer] = value instead\n",
      "\n",
      "See the caveats in the documentation: https://pandas.pydata.org/pandas-docs/stable/user_guide/indexing.html#returning-a-view-versus-a-copy\n",
      "  self._setitem_single_column(loc, value, pi)\n"
     ]
    }
   ],
   "source": [
    "data_subset2.loc[data_subset2[\"contrib_country\"].isin(sub_saharan_africa), \"contrib_country\"] = \"sub_saharan_africa\"\n",
    "data_subset2.loc[data_subset2[\"contrib_country\"].isin(northern_africa), \"contrib_country\"] = \"northern_africa_and_western_asia\"\n",
    "data_subset2.loc[data_subset2[\"contrib_country\"].isin(western_asia), \"contrib_country\"] = \"northern_africa_and_western_asia\"\n",
    "data_subset2.loc[data_subset2[\"contrib_country\"].isin(central_asia), \"contrib_country\"] = \"central_and_southern_asia\"\n",
    "data_subset2.loc[data_subset2[\"contrib_country\"].isin(southern_asia), \"contrib_country\"] = \"central_and_southern_asia\"\n",
    "data_subset2.loc[data_subset2[\"contrib_country\"].isin(eastern_asia), \"contrib_country\"] = \"eastern_and_south_eastern_asia\"\n",
    "data_subset2.loc[data_subset2[\"contrib_country\"].isin(south_eastern_asia), \"contrib_country\"] = \"eastern_and_south_eastern_asia\"\n",
    "data_subset2.loc[data_subset2[\"contrib_country\"].isin(caribbean), \"contrib_country\"] = \"latin_america_and_the_caribbean\"\n",
    "data_subset2.loc[data_subset2[\"contrib_country\"].isin(central_america), \"contrib_country\"] = \"latin_america_and_the_caribbean\"\n",
    "data_subset2.loc[data_subset2[\"contrib_country\"].isin(south_america), \"contrib_country\"] = \"latin_america_and_the_caribbean\"\n",
    "data_subset2.loc[data_subset2[\"contrib_country\"].isin(australia_and_new_zealand), \"contrib_country\"] = \"oceania\"\n",
    "data_subset2.loc[data_subset2[\"contrib_country\"].isin(melanesia), \"contrib_country\"] = \"oceania\"\n",
    "data_subset2.loc[data_subset2[\"contrib_country\"].isin(micronesia), \"contrib_country\"] = \"oceania\"\n",
    "data_subset2.loc[data_subset2[\"contrib_country\"].isin(polynesia), \"contrib_country\"] = \"oceania\"\n",
    "data_subset2.loc[data_subset2[\"contrib_country\"].isin(northern_america), \"contrib_country\"] = \"europe_and_northern_america\"\n",
    "data_subset2.loc[data_subset2[\"contrib_country\"].isin(eastern_europe), \"contrib_country\"] = \"europe_and_northern_america\"\n",
    "data_subset2.loc[data_subset2[\"contrib_country\"].isin(western_europe), \"contrib_country\"] = \"europe_and_northern_america\"\n",
    "data_subset2.loc[data_subset2[\"contrib_country\"].isin(northern_europe), \"contrib_country\"] = \"europe_and_northern_america\"\n",
    "data_subset2.loc[data_subset2[\"contrib_country\"].isin(southern_europe), \"contrib_country\"] = \"europe_and_northern_america\"\n",
    "data_subset2.loc[data_subset2[\"contrib_country\"].isin([\"mozambique\"]), \"contrib_country\"] = \"sub_saharan_africa\""
   ]
  },
  {
   "cell_type": "code",
   "execution_count": 10,
   "metadata": {},
   "outputs": [
    {
     "data": {
      "text/plain": "merged_or_not              0\nlifetime_minutes           0\nnum_commits                0\nfiles_changed              0\nnum_commit_comments        0\nnum_issue_comments         0\nwatchers                   0\nprev_pullreqs              0\nrequester_succ_rate        0\nfollowers                  0\npr_succ_rate               0\naccount_creation_days      0\ncontrib_gender             0\ncontrib_country            0\nperc_neg_emotion           0\nperc_pos_emotion           0\nperc_neu_emotion           0\nsocial_strength            0\nsame_country               0\nintegrator_availability    0\nfriday_effect              0\ndtype: int64"
     },
     "execution_count": 10,
     "metadata": {},
     "output_type": "execute_result"
    }
   ],
   "source": [
    "data_subset = data_subset2.dropna(subset=['contrib_gender','same_country','perc_neg_emotion','perc_pos_emotion','perc_neu_emotion','pr_succ_rate','social_strength','integrator_availability'])\n",
    "data_subset.isna().sum()"
   ]
  },
  {
   "cell_type": "code",
   "execution_count": 12,
   "metadata": {},
   "outputs": [],
   "source": [
    "data = data_subset\n",
    "\n",
    "data_vars=data.columns.values.tolist()\n",
    "# cat_list='var'+'_'+\"contrib_country\"\n",
    "# cat_list = pd.get_dummies(data['contrib_country'], prefix='contrib_country')\n",
    "# data1=data.join(cat_list)\n",
    "# data=data1\n",
    "\n",
    "dummy = ['language','contrib_gender','contrib_country','contrib_affiliation','contrib_first_emo','inte_country','inte_affiliation','inte_first_emo']\n",
    "for var in dummy:\n",
    "    if var in data_vars:\n",
    "        cat_list='var'+'_'+var\n",
    "        cat_list = pd.get_dummies(data[var], prefix=var)\n",
    "        data1=data.join(cat_list)\n",
    "        data=data1\n",
    "data_vars=data.columns.values.tolist()\n",
    "to_keep=[i for i in data_vars if i not in dummy]\n",
    "data= data[to_keep]\n",
    "data_final = data"
   ]
  },
  {
   "cell_type": "code",
   "execution_count": null,
   "metadata": {},
   "outputs": [],
   "source": [
    "data_final.to_csv('final_data_Q3.csv', index = False)"
   ]
  },
  {
   "cell_type": "code",
   "execution_count": 10,
   "metadata": {},
   "outputs": [],
   "source": [
    "import pandas as pd\n",
    "\n",
    "data = pd.read_csv(\"final_data_Q3.csv\")"
   ]
  },
  {
   "cell_type": "code",
   "execution_count": 11,
   "metadata": {},
   "outputs": [
    {
     "name": "stderr",
     "output_type": "stream",
     "text": [
      "/home/ssghorsh/.local/lib/python3.8/site-packages/sklearn/utils/validation.py:70: FutureWarning: Pass n_features_to_select=20 as keyword args. From version 1.0 (renaming of 0.25) passing these as positional arguments will result in an error\n",
      "  warnings.warn(f\"Pass {args_msg} as keyword args. From version \"\n"
     ]
    },
    {
     "name": "stdout",
     "output_type": "stream",
     "text": [
      "[ True False False False  True  True False False  True False  True False\n",
      "  True  True  True  True False False  True  True  True False  True  True\n",
      "  True  True  True  True  True  True]\n",
      "[ 1 11  4  7  1  1  9  5  1  8  1  6  1  1  1  1 10  3  1  1  1  2  1  1\n",
      "  1  1  1  1  1  1]\n"
     ]
    }
   ],
   "source": [
    "data_final = data\n",
    "data_final_vars=data_final.columns.values.tolist()\n",
    "y=['perc_neg_emotion']\n",
    "X=[i for i in data_final_vars if i not in y]\n",
    "from sklearn.feature_selection import RFE\n",
    "from sklearn.linear_model import LinearRegression\n",
    "linreg = LinearRegression()\n",
    "rfe = RFE(linreg,20)\n",
    "rfe = rfe.fit(data_final[X],data_final[y].values.ravel())\n",
    "print(rfe.support_)\n",
    "print(rfe.ranking_)"
   ]
  },
  {
   "cell_type": "code",
   "execution_count": 13,
   "metadata": {},
   "outputs": [
    {
     "data": {
      "text/plain": "['perc_neg_emotion',\n 'merged_or_not',\n 'num_commit_comments',\n 'num_issue_comments',\n 'requester_succ_rate',\n 'pr_succ_rate',\n 'perc_pos_emotion',\n 'perc_neu_emotion',\n 'social_strength',\n 'same_country',\n 'contrib_gender_female',\n 'contrib_gender_male',\n 'contrib_country_antarctica',\n 'contrib_country_eastern_and_south_eastern_asia',\n 'contrib_country_europe_and_northern_america',\n 'contrib_country_gibraltar',\n 'contrib_country_latin_america_and_the_caribbean',\n 'contrib_country_northern_africa_and_western_asia',\n 'contrib_country_oceania',\n 'contrib_country_pitcairn islands',\n 'contrib_country_sub_saharan_africa']"
     },
     "execution_count": 13,
     "metadata": {},
     "output_type": "execute_result"
    }
   ],
   "source": [
    "data_final_vars=data.columns.values.tolist()\n",
    "data_final_vars"
   ]
  },
  {
   "cell_type": "code",
   "execution_count": 12,
   "metadata": {},
   "outputs": [],
   "source": [
    "i = 0\n",
    "s =rfe.support_\n",
    "to_keep = ['perc_neg_emotion']\n",
    "for entry in X:\n",
    "    if s[i] == True:\n",
    "        to_keep.append(entry)\n",
    "    i = i + 1\n",
    "    \n",
    "data= data[to_keep]\n"
   ]
  },
  {
   "cell_type": "code",
   "execution_count": 8,
   "metadata": {},
   "outputs": [],
   "source": [
    "data.to_csv('final_data_Q3_2.csv', index = False)"
   ]
  }
 ],
 "metadata": {
  "kernelspec": {
   "display_name": "Python 3.8.10 64-bit",
   "name": "python3810jvsc74a57bd0df0893f56f349688326838aaeea0de204df53a132722cbd565e54b24a8fec5f6"
  },
  "language_info": {
   "codemirror_mode": {
    "name": "ipython",
    "version": 3
   },
   "file_extension": ".py",
   "mimetype": "text/x-python",
   "name": "python",
   "nbconvert_exporter": "python",
   "pygments_lexer": "ipython3",
   "version": "3.8.10"
  },
  "metadata": {
   "interpreter": {
    "hash": "df0893f56f349688326838aaeea0de204df53a132722cbd565e54b24a8fec5f6"
   }
  },
  "orig_nbformat": 2
 },
 "nbformat": 4,
 "nbformat_minor": 2
}