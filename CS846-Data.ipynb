{
 "cells": [
  {
   "cell_type": "code",
   "execution_count": 1,
   "metadata": {},
   "outputs": [],
   "source": [
    "import pandas as pd\n",
    "\n",
    "data = pd.read_csv(\"../new_pullreq.csv\") \n"
   ]
  },
  {
   "cell_type": "code",
   "execution_count": null,
   "metadata": {},
   "outputs": [],
   "source": [
    "data.head()"
   ]
  },
  {
   "cell_type": "code",
   "execution_count": null,
   "metadata": {},
   "outputs": [],
   "source": [
    "data.columns"
   ]
  },
  {
   "cell_type": "code",
   "execution_count": null,
   "metadata": {},
   "outputs": [],
   "source": [
    "pd.set_option('display.max_columns', None)\n",
    "data.head()"
   ]
  },
  {
   "cell_type": "code",
   "execution_count": 2,
   "metadata": {},
   "outputs": [
    {
     "output_type": "execute_result",
     "data": {
      "text/html": "<div>\n<style scoped>\n    .dataframe tbody tr th:only-of-type {\n        vertical-align: middle;\n    }\n\n    .dataframe tbody tr th {\n        vertical-align: top;\n    }\n\n    .dataframe thead th {\n        text-align: right;\n    }\n</style>\n<table border=\"1\" class=\"dataframe\">\n  <thead>\n    <tr style=\"text-align: right;\">\n      <th></th>\n      <th>project_id</th>\n      <th>ownername</th>\n      <th>reponame</th>\n      <th>merged_or_not</th>\n      <th>perc_neg_emotion</th>\n      <th>perc_pos_emotion</th>\n      <th>perc_neu_emotion</th>\n      <th>contrib_gender</th>\n      <th>contrib_country</th>\n      <th>contrib_affiliation</th>\n      <th>inte_country</th>\n      <th>same_country</th>\n      <th>same_affiliation</th>\n    </tr>\n  </thead>\n  <tbody>\n    <tr>\n      <th>2</th>\n      <td>93139005</td>\n      <td>binary-com</td>\n      <td>SmartCharts</td>\n      <td>1</td>\n      <td>0.000000</td>\n      <td>0.000000</td>\n      <td>0.000000</td>\n      <td>male</td>\n      <td>malaysia</td>\n      <td>NaN</td>\n      <td>malaysia</td>\n      <td>1.0</td>\n      <td>NaN</td>\n    </tr>\n    <tr>\n      <th>3</th>\n      <td>15059440</td>\n      <td>letsencrypt</td>\n      <td>boulder</td>\n      <td>1</td>\n      <td>0.000000</td>\n      <td>0.000000</td>\n      <td>0.000000</td>\n      <td>male</td>\n      <td>canada</td>\n      <td>NaN</td>\n      <td>NaN</td>\n      <td>NaN</td>\n      <td>NaN</td>\n    </tr>\n    <tr>\n      <th>5</th>\n      <td>79189935</td>\n      <td>compsy</td>\n      <td>vsv</td>\n      <td>1</td>\n      <td>0.000000</td>\n      <td>0.000000</td>\n      <td>0.000000</td>\n      <td>male</td>\n      <td>NaN</td>\n      <td>NaN</td>\n      <td>NaN</td>\n      <td>NaN</td>\n      <td>NaN</td>\n    </tr>\n    <tr>\n      <th>6</th>\n      <td>4282330</td>\n      <td>ros-infrastructure</td>\n      <td>rosdep</td>\n      <td>1</td>\n      <td>0.000000</td>\n      <td>0.666667</td>\n      <td>0.333333</td>\n      <td>male</td>\n      <td>NaN</td>\n      <td>NaN</td>\n      <td>NaN</td>\n      <td>NaN</td>\n      <td>NaN</td>\n    </tr>\n    <tr>\n      <th>7</th>\n      <td>19499360</td>\n      <td>salopensource</td>\n      <td>sal</td>\n      <td>1</td>\n      <td>0.000000</td>\n      <td>0.000000</td>\n      <td>0.000000</td>\n      <td>female</td>\n      <td>NaN</td>\n      <td>sas</td>\n      <td>united states</td>\n      <td>NaN</td>\n      <td>NaN</td>\n    </tr>\n    <tr>\n      <th>8</th>\n      <td>1808</td>\n      <td>candlepin</td>\n      <td>subscription-manager</td>\n      <td>1</td>\n      <td>0.000000</td>\n      <td>0.333333</td>\n      <td>0.666667</td>\n      <td>male</td>\n      <td>united states</td>\n      <td>red hat</td>\n      <td>NaN</td>\n      <td>NaN</td>\n      <td>1.0</td>\n    </tr>\n    <tr>\n      <th>10</th>\n      <td>5556</td>\n      <td>Sage-Bionetworks</td>\n      <td>SynapseWebClient</td>\n      <td>1</td>\n      <td>0.000000</td>\n      <td>0.000000</td>\n      <td>0.000000</td>\n      <td>male</td>\n      <td>NaN</td>\n      <td>NaN</td>\n      <td>NaN</td>\n      <td>NaN</td>\n      <td>NaN</td>\n    </tr>\n    <tr>\n      <th>11</th>\n      <td>73033219</td>\n      <td>Zeit</td>\n      <td>docs</td>\n      <td>1</td>\n      <td>0.000000</td>\n      <td>0.000000</td>\n      <td>1.000000</td>\n      <td>male</td>\n      <td>peru</td>\n      <td>NaN</td>\n      <td>united kingdom</td>\n      <td>0.0</td>\n      <td>NaN</td>\n    </tr>\n    <tr>\n      <th>12</th>\n      <td>11735921</td>\n      <td>arose</td>\n      <td>ngl</td>\n      <td>0</td>\n      <td>1.000000</td>\n      <td>0.000000</td>\n      <td>0.000000</td>\n      <td>male</td>\n      <td>NaN</td>\n      <td>NaN</td>\n      <td>united states</td>\n      <td>NaN</td>\n      <td>NaN</td>\n    </tr>\n    <tr>\n      <th>13</th>\n      <td>125530255</td>\n      <td>mlpiper</td>\n      <td>mlpiper</td>\n      <td>1</td>\n      <td>0.000000</td>\n      <td>0.000000</td>\n      <td>0.000000</td>\n      <td>male</td>\n      <td>NaN</td>\n      <td>NaN</td>\n      <td>NaN</td>\n      <td>NaN</td>\n      <td>NaN</td>\n    </tr>\n    <tr>\n      <th>14</th>\n      <td>3086437</td>\n      <td>karma-runner</td>\n      <td>karma</td>\n      <td>1</td>\n      <td>0.250000</td>\n      <td>0.000000</td>\n      <td>0.750000</td>\n      <td>male</td>\n      <td>NaN</td>\n      <td>NaN</td>\n      <td>NaN</td>\n      <td>NaN</td>\n      <td>NaN</td>\n    </tr>\n    <tr>\n      <th>16</th>\n      <td>46403735</td>\n      <td>portainer</td>\n      <td>portainer</td>\n      <td>1</td>\n      <td>0.000000</td>\n      <td>0.000000</td>\n      <td>0.000000</td>\n      <td>male</td>\n      <td>united states</td>\n      <td>NaN</td>\n      <td>united states</td>\n      <td>1.0</td>\n      <td>NaN</td>\n    </tr>\n    <tr>\n      <th>17</th>\n      <td>11773124</td>\n      <td>getgauge</td>\n      <td>gauge</td>\n      <td>1</td>\n      <td>0.500000</td>\n      <td>0.000000</td>\n      <td>0.500000</td>\n      <td>male</td>\n      <td>NaN</td>\n      <td>NaN</td>\n      <td>NaN</td>\n      <td>NaN</td>\n      <td>NaN</td>\n    </tr>\n    <tr>\n      <th>18</th>\n      <td>5613772</td>\n      <td>pentaho</td>\n      <td>pentaho-kettle</td>\n      <td>1</td>\n      <td>0.000000</td>\n      <td>0.000000</td>\n      <td>0.000000</td>\n      <td>male</td>\n      <td>portugal</td>\n      <td>pentaho</td>\n      <td>NaN</td>\n      <td>NaN</td>\n      <td>1.0</td>\n    </tr>\n    <tr>\n      <th>19</th>\n      <td>55219</td>\n      <td>JetBrains</td>\n      <td>intellij-community</td>\n      <td>0</td>\n      <td>0.000000</td>\n      <td>0.000000</td>\n      <td>0.000000</td>\n      <td>male</td>\n      <td>NaN</td>\n      <td>NaN</td>\n      <td>NaN</td>\n      <td>NaN</td>\n      <td>NaN</td>\n    </tr>\n    <tr>\n      <th>20</th>\n      <td>8196280</td>\n      <td>apache</td>\n      <td>spark</td>\n      <td>0</td>\n      <td>NaN</td>\n      <td>NaN</td>\n      <td>NaN</td>\n      <td>male</td>\n      <td>united states</td>\n      <td>databricks</td>\n      <td>NaN</td>\n      <td>NaN</td>\n      <td>NaN</td>\n    </tr>\n    <tr>\n      <th>21</th>\n      <td>22182978</td>\n      <td>cynicaloptimist</td>\n      <td>improved-initiative</td>\n      <td>1</td>\n      <td>0.000000</td>\n      <td>0.000000</td>\n      <td>0.000000</td>\n      <td>male</td>\n      <td>united states</td>\n      <td>tableau</td>\n      <td>united states</td>\n      <td>1.0</td>\n      <td>1.0</td>\n    </tr>\n    <tr>\n      <th>22</th>\n      <td>46634954</td>\n      <td>GoogleCloudPlatform</td>\n      <td>google-cloud-eclipse</td>\n      <td>1</td>\n      <td>0.000000</td>\n      <td>0.000000</td>\n      <td>0.000000</td>\n      <td>female</td>\n      <td>united states</td>\n      <td>NaN</td>\n      <td>united states</td>\n      <td>1.0</td>\n      <td>NaN</td>\n    </tr>\n    <tr>\n      <th>23</th>\n      <td>10442569</td>\n      <td>glenjarvis</td>\n      <td>ansible_tutorial</td>\n      <td>1</td>\n      <td>0.000000</td>\n      <td>0.000000</td>\n      <td>0.000000</td>\n      <td>male</td>\n      <td>united states</td>\n      <td>NaN</td>\n      <td>united states</td>\n      <td>1.0</td>\n      <td>NaN</td>\n    </tr>\n    <tr>\n      <th>24</th>\n      <td>9039027</td>\n      <td>tsuru</td>\n      <td>tsuru</td>\n      <td>1</td>\n      <td>0.057143</td>\n      <td>0.257143</td>\n      <td>0.685714</td>\n      <td>male</td>\n      <td>brazil</td>\n      <td>NaN</td>\n      <td>NaN</td>\n      <td>NaN</td>\n      <td>NaN</td>\n    </tr>\n    <tr>\n      <th>25</th>\n      <td>57324055</td>\n      <td>dstrigl</td>\n      <td>htheatpump</td>\n      <td>1</td>\n      <td>0.000000</td>\n      <td>0.000000</td>\n      <td>0.000000</td>\n      <td>male</td>\n      <td>austria</td>\n      <td>NaN</td>\n      <td>austria</td>\n      <td>1.0</td>\n      <td>NaN</td>\n    </tr>\n    <tr>\n      <th>27</th>\n      <td>96086758</td>\n      <td>GoogleContainerTools</td>\n      <td>jib</td>\n      <td>1</td>\n      <td>0.076923</td>\n      <td>0.076923</td>\n      <td>0.846154</td>\n      <td>male</td>\n      <td>canada</td>\n      <td>NaN</td>\n      <td>canada</td>\n      <td>1.0</td>\n      <td>NaN</td>\n    </tr>\n    <tr>\n      <th>28</th>\n      <td>13427273</td>\n      <td>project-ncl</td>\n      <td>pnc</td>\n      <td>1</td>\n      <td>0.000000</td>\n      <td>0.000000</td>\n      <td>1.000000</td>\n      <td>male</td>\n      <td>united kingdom</td>\n      <td>red hat</td>\n      <td>united kingdom</td>\n      <td>1.0</td>\n      <td>1.0</td>\n    </tr>\n    <tr>\n      <th>29</th>\n      <td>5494028</td>\n      <td>opengeoscience</td>\n      <td>geojs</td>\n      <td>1</td>\n      <td>0.000000</td>\n      <td>0.000000</td>\n      <td>1.000000</td>\n      <td>male</td>\n      <td>NaN</td>\n      <td>kitware</td>\n      <td>NaN</td>\n      <td>NaN</td>\n      <td>1.0</td>\n    </tr>\n    <tr>\n      <th>30</th>\n      <td>5219</td>\n      <td>scikit-learn</td>\n      <td>scikit-learn</td>\n      <td>0</td>\n      <td>0.102649</td>\n      <td>0.195364</td>\n      <td>0.701987</td>\n      <td>male</td>\n      <td>united states</td>\n      <td>NaN</td>\n      <td>NaN</td>\n      <td>NaN</td>\n      <td>NaN</td>\n    </tr>\n    <tr>\n      <th>31</th>\n      <td>99455722</td>\n      <td>banzaicloud</td>\n      <td>telescopes</td>\n      <td>1</td>\n      <td>0.000000</td>\n      <td>0.000000</td>\n      <td>0.000000</td>\n      <td>male</td>\n      <td>hungary</td>\n      <td>NaN</td>\n      <td>NaN</td>\n      <td>NaN</td>\n      <td>NaN</td>\n    </tr>\n    <tr>\n      <th>32</th>\n      <td>1803672</td>\n      <td>mulesoft</td>\n      <td>mule</td>\n      <td>1</td>\n      <td>0.000000</td>\n      <td>0.000000</td>\n      <td>1.000000</td>\n      <td>male</td>\n      <td>NaN</td>\n      <td>mulesoft</td>\n      <td>NaN</td>\n      <td>NaN</td>\n      <td>1.0</td>\n    </tr>\n    <tr>\n      <th>34</th>\n      <td>1142</td>\n      <td>saltstack</td>\n      <td>salt</td>\n      <td>1</td>\n      <td>0.000000</td>\n      <td>0.000000</td>\n      <td>1.000000</td>\n      <td>male</td>\n      <td>NaN</td>\n      <td>NaN</td>\n      <td>united states</td>\n      <td>NaN</td>\n      <td>NaN</td>\n    </tr>\n    <tr>\n      <th>35</th>\n      <td>3020145</td>\n      <td>CTPUG</td>\n      <td>wafer</td>\n      <td>1</td>\n      <td>0.000000</td>\n      <td>0.000000</td>\n      <td>1.000000</td>\n      <td>male</td>\n      <td>south africa</td>\n      <td>NaN</td>\n      <td>south africa</td>\n      <td>1.0</td>\n      <td>NaN</td>\n    </tr>\n    <tr>\n      <th>37</th>\n      <td>1545591</td>\n      <td>opf</td>\n      <td>openproject</td>\n      <td>1</td>\n      <td>0.000000</td>\n      <td>0.000000</td>\n      <td>1.000000</td>\n      <td>male</td>\n      <td>NaN</td>\n      <td>NaN</td>\n      <td>united kingdom</td>\n      <td>NaN</td>\n      <td>NaN</td>\n    </tr>\n    <tr>\n      <th>...</th>\n      <td>...</td>\n      <td>...</td>\n      <td>...</td>\n      <td>...</td>\n      <td>...</td>\n      <td>...</td>\n      <td>...</td>\n      <td>...</td>\n      <td>...</td>\n      <td>...</td>\n      <td>...</td>\n      <td>...</td>\n      <td>...</td>\n    </tr>\n    <tr>\n      <th>3347903</th>\n      <td>183726</td>\n      <td>hibernate</td>\n      <td>hibernate-validator</td>\n      <td>1</td>\n      <td>0.000000</td>\n      <td>0.000000</td>\n      <td>1.000000</td>\n      <td>male</td>\n      <td>NaN</td>\n      <td>red hat</td>\n      <td>NaN</td>\n      <td>NaN</td>\n      <td>1.0</td>\n    </tr>\n    <tr>\n      <th>3347904</th>\n      <td>2249947</td>\n      <td>tgriesser</td>\n      <td>knex</td>\n      <td>1</td>\n      <td>0.000000</td>\n      <td>0.000000</td>\n      <td>0.000000</td>\n      <td>male</td>\n      <td>united states</td>\n      <td>NaN</td>\n      <td>united states</td>\n      <td>1.0</td>\n      <td>NaN</td>\n    </tr>\n    <tr>\n      <th>3347906</th>\n      <td>109864226</td>\n      <td>RedHatInsights</td>\n      <td>compliance-backend</td>\n      <td>1</td>\n      <td>NaN</td>\n      <td>NaN</td>\n      <td>NaN</td>\n      <td>male</td>\n      <td>czech republic</td>\n      <td>red hat</td>\n      <td>czech republic</td>\n      <td>1.0</td>\n      <td>1.0</td>\n    </tr>\n    <tr>\n      <th>3347907</th>\n      <td>3905191</td>\n      <td>facebook</td>\n      <td>react</td>\n      <td>1</td>\n      <td>0.000000</td>\n      <td>1.000000</td>\n      <td>0.000000</td>\n      <td>male</td>\n      <td>united kingdom</td>\n      <td>facebook</td>\n      <td>united kingdom</td>\n      <td>1.0</td>\n      <td>1.0</td>\n    </tr>\n    <tr>\n      <th>3347909</th>\n      <td>15433727</td>\n      <td>chef</td>\n      <td>chef-dk</td>\n      <td>1</td>\n      <td>0.000000</td>\n      <td>0.000000</td>\n      <td>0.000000</td>\n      <td>male</td>\n      <td>united states</td>\n      <td>NaN</td>\n      <td>united states</td>\n      <td>1.0</td>\n      <td>NaN</td>\n    </tr>\n    <tr>\n      <th>3347910</th>\n      <td>65003359</td>\n      <td>NYTimes</td>\n      <td>react-tracking</td>\n      <td>1</td>\n      <td>0.000000</td>\n      <td>0.000000</td>\n      <td>0.000000</td>\n      <td>male</td>\n      <td>NaN</td>\n      <td>nytimes</td>\n      <td>NaN</td>\n      <td>NaN</td>\n      <td>1.0</td>\n    </tr>\n    <tr>\n      <th>3347911</th>\n      <td>4505299</td>\n      <td>CartoDB</td>\n      <td>Windshaft-cartodb</td>\n      <td>1</td>\n      <td>0.000000</td>\n      <td>0.000000</td>\n      <td>0.000000</td>\n      <td>male</td>\n      <td>NaN</td>\n      <td>carto</td>\n      <td>NaN</td>\n      <td>NaN</td>\n      <td>1.0</td>\n    </tr>\n    <tr>\n      <th>3347912</th>\n      <td>4952344</td>\n      <td>spring-projects</td>\n      <td>spring-boot</td>\n      <td>0</td>\n      <td>0.500000</td>\n      <td>0.500000</td>\n      <td>0.000000</td>\n      <td>male</td>\n      <td>NaN</td>\n      <td>NaN</td>\n      <td>NaN</td>\n      <td>NaN</td>\n      <td>NaN</td>\n    </tr>\n    <tr>\n      <th>3347913</th>\n      <td>1017955</td>\n      <td>jcodec</td>\n      <td>jcodec</td>\n      <td>1</td>\n      <td>0.000000</td>\n      <td>0.000000</td>\n      <td>1.000000</td>\n      <td>male</td>\n      <td>united states</td>\n      <td>NaN</td>\n      <td>NaN</td>\n      <td>NaN</td>\n      <td>NaN</td>\n    </tr>\n    <tr>\n      <th>3347914</th>\n      <td>32567918</td>\n      <td>Alluxio</td>\n      <td>alluxio</td>\n      <td>1</td>\n      <td>NaN</td>\n      <td>NaN</td>\n      <td>NaN</td>\n      <td>male</td>\n      <td>united states</td>\n      <td>NaN</td>\n      <td>NaN</td>\n      <td>NaN</td>\n      <td>NaN</td>\n    </tr>\n    <tr>\n      <th>3347915</th>\n      <td>3798450</td>\n      <td>pcgen</td>\n      <td>pcgen</td>\n      <td>0</td>\n      <td>0.000000</td>\n      <td>0.000000</td>\n      <td>1.000000</td>\n      <td>male</td>\n      <td>united states</td>\n      <td>NaN</td>\n      <td>united states</td>\n      <td>1.0</td>\n      <td>NaN</td>\n    </tr>\n    <tr>\n      <th>3347916</th>\n      <td>37192712</td>\n      <td>LLK</td>\n      <td>scratch-vm</td>\n      <td>1</td>\n      <td>0.100000</td>\n      <td>0.050000</td>\n      <td>0.850000</td>\n      <td>male</td>\n      <td>NaN</td>\n      <td>NaN</td>\n      <td>NaN</td>\n      <td>NaN</td>\n      <td>NaN</td>\n    </tr>\n    <tr>\n      <th>3347917</th>\n      <td>43082345</td>\n      <td>eqcorrscan</td>\n      <td>EQcorrscan</td>\n      <td>0</td>\n      <td>0.000000</td>\n      <td>0.000000</td>\n      <td>1.000000</td>\n      <td>male</td>\n      <td>new zealand</td>\n      <td>NaN</td>\n      <td>new zealand</td>\n      <td>1.0</td>\n      <td>NaN</td>\n    </tr>\n    <tr>\n      <th>3347918</th>\n      <td>22100926</td>\n      <td>Kinto</td>\n      <td>kinto</td>\n      <td>1</td>\n      <td>0.000000</td>\n      <td>0.000000</td>\n      <td>1.000000</td>\n      <td>male</td>\n      <td>NaN</td>\n      <td>mozilla</td>\n      <td>NaN</td>\n      <td>NaN</td>\n      <td>1.0</td>\n    </tr>\n    <tr>\n      <th>3347919</th>\n      <td>2783352</td>\n      <td>shadow-robot</td>\n      <td>sr-build-tools</td>\n      <td>1</td>\n      <td>0.000000</td>\n      <td>0.000000</td>\n      <td>1.000000</td>\n      <td>male</td>\n      <td>NaN</td>\n      <td>NaN</td>\n      <td>NaN</td>\n      <td>NaN</td>\n      <td>NaN</td>\n    </tr>\n    <tr>\n      <th>3347920</th>\n      <td>19660635</td>\n      <td>broadinstitute</td>\n      <td>cromwell</td>\n      <td>1</td>\n      <td>0.000000</td>\n      <td>0.000000</td>\n      <td>1.000000</td>\n      <td>male</td>\n      <td>NaN</td>\n      <td>broad institute</td>\n      <td>NaN</td>\n      <td>NaN</td>\n      <td>1.0</td>\n    </tr>\n    <tr>\n      <th>3347921</th>\n      <td>19807382</td>\n      <td>jupyter</td>\n      <td>nbconvert</td>\n      <td>1</td>\n      <td>0.000000</td>\n      <td>0.250000</td>\n      <td>0.750000</td>\n      <td>male</td>\n      <td>NaN</td>\n      <td>NaN</td>\n      <td>NaN</td>\n      <td>NaN</td>\n      <td>NaN</td>\n    </tr>\n    <tr>\n      <th>3347922</th>\n      <td>12384531</td>\n      <td>broadinstitute</td>\n      <td>viral-ngs</td>\n      <td>1</td>\n      <td>0.000000</td>\n      <td>0.333333</td>\n      <td>0.666667</td>\n      <td>male</td>\n      <td>united states</td>\n      <td>NaN</td>\n      <td>united states</td>\n      <td>1.0</td>\n      <td>NaN</td>\n    </tr>\n    <tr>\n      <th>3347923</th>\n      <td>73235251</td>\n      <td>chanzuckerberg</td>\n      <td>idseq-web</td>\n      <td>1</td>\n      <td>0.000000</td>\n      <td>0.000000</td>\n      <td>0.000000</td>\n      <td>male</td>\n      <td>united states</td>\n      <td>NaN</td>\n      <td>united states</td>\n      <td>1.0</td>\n      <td>NaN</td>\n    </tr>\n    <tr>\n      <th>3347924</th>\n      <td>130068259</td>\n      <td>tonym89</td>\n      <td>live-poker-app</td>\n      <td>1</td>\n      <td>0.000000</td>\n      <td>0.000000</td>\n      <td>0.000000</td>\n      <td>male</td>\n      <td>NaN</td>\n      <td>NaN</td>\n      <td>NaN</td>\n      <td>NaN</td>\n      <td>NaN</td>\n    </tr>\n    <tr>\n      <th>3347926</th>\n      <td>22070816</td>\n      <td>FormidableLabs</td>\n      <td>victory</td>\n      <td>1</td>\n      <td>0.000000</td>\n      <td>0.000000</td>\n      <td>0.000000</td>\n      <td>female</td>\n      <td>united states</td>\n      <td>NaN</td>\n      <td>united states</td>\n      <td>1.0</td>\n      <td>NaN</td>\n    </tr>\n    <tr>\n      <th>3347927</th>\n      <td>55688056</td>\n      <td>zsmartsystems</td>\n      <td>com.zsmartsystems.zigbee</td>\n      <td>1</td>\n      <td>0.000000</td>\n      <td>0.000000</td>\n      <td>0.000000</td>\n      <td>male</td>\n      <td>united kingdom</td>\n      <td>NaN</td>\n      <td>united kingdom</td>\n      <td>1.0</td>\n      <td>NaN</td>\n    </tr>\n    <tr>\n      <th>3347928</th>\n      <td>128227798</td>\n      <td>SixtyCapital</td>\n      <td>infrastructure</td>\n      <td>1</td>\n      <td>0.000000</td>\n      <td>0.000000</td>\n      <td>0.000000</td>\n      <td>male</td>\n      <td>NaN</td>\n      <td>NaN</td>\n      <td>NaN</td>\n      <td>NaN</td>\n      <td>NaN</td>\n    </tr>\n    <tr>\n      <th>3347929</th>\n      <td>103596154</td>\n      <td>virtualidentityag</td>\n      <td>dev-fe-onboarding</td>\n      <td>1</td>\n      <td>0.000000</td>\n      <td>0.000000</td>\n      <td>0.000000</td>\n      <td>male</td>\n      <td>NaN</td>\n      <td>NaN</td>\n      <td>NaN</td>\n      <td>NaN</td>\n      <td>NaN</td>\n    </tr>\n    <tr>\n      <th>3347930</th>\n      <td>28904919</td>\n      <td>plotly</td>\n      <td>plotly.js</td>\n      <td>1</td>\n      <td>0.000000</td>\n      <td>0.285714</td>\n      <td>0.714286</td>\n      <td>male</td>\n      <td>united states</td>\n      <td>NaN</td>\n      <td>united states</td>\n      <td>1.0</td>\n      <td>NaN</td>\n    </tr>\n    <tr>\n      <th>3347931</th>\n      <td>55291137</td>\n      <td>freechipsproject</td>\n      <td>rocket-chip</td>\n      <td>0</td>\n      <td>NaN</td>\n      <td>NaN</td>\n      <td>NaN</td>\n      <td>male</td>\n      <td>NaN</td>\n      <td>NaN</td>\n      <td>NaN</td>\n      <td>NaN</td>\n      <td>NaN</td>\n    </tr>\n    <tr>\n      <th>3347932</th>\n      <td>30544060</td>\n      <td>Kronos-Integration</td>\n      <td>kronos-service-consul</td>\n      <td>1</td>\n      <td>0.000000</td>\n      <td>0.000000</td>\n      <td>0.000000</td>\n      <td>male</td>\n      <td>NaN</td>\n      <td>NaN</td>\n      <td>NaN</td>\n      <td>NaN</td>\n      <td>NaN</td>\n    </tr>\n    <tr>\n      <th>3347933</th>\n      <td>1142</td>\n      <td>saltstack</td>\n      <td>salt</td>\n      <td>0</td>\n      <td>0.000000</td>\n      <td>0.333333</td>\n      <td>0.666667</td>\n      <td>male</td>\n      <td>united states</td>\n      <td>NaN</td>\n      <td>united states</td>\n      <td>1.0</td>\n      <td>NaN</td>\n    </tr>\n    <tr>\n      <th>3347934</th>\n      <td>31499094</td>\n      <td>mjmlio</td>\n      <td>mjml</td>\n      <td>1</td>\n      <td>0.142857</td>\n      <td>0.285714</td>\n      <td>0.571429</td>\n      <td>male</td>\n      <td>netherlands</td>\n      <td>NaN</td>\n      <td>netherlands</td>\n      <td>1.0</td>\n      <td>NaN</td>\n    </tr>\n    <tr>\n      <th>3347936</th>\n      <td>5660659</td>\n      <td>ikasanEIP</td>\n      <td>ikasan</td>\n      <td>1</td>\n      <td>0.000000</td>\n      <td>0.500000</td>\n      <td>0.500000</td>\n      <td>male</td>\n      <td>united kingdom</td>\n      <td>NaN</td>\n      <td>NaN</td>\n      <td>NaN</td>\n      <td>NaN</td>\n    </tr>\n  </tbody>\n</table>\n<p>2653541 rows × 13 columns</p>\n</div>",
      "text/plain": [
       "         project_id             ownername                  reponame  \\\n",
       "2          93139005            binary-com               SmartCharts   \n",
       "3          15059440           letsencrypt                   boulder   \n",
       "5          79189935                compsy                       vsv   \n",
       "6           4282330    ros-infrastructure                    rosdep   \n",
       "7          19499360         salopensource                       sal   \n",
       "8              1808             candlepin      subscription-manager   \n",
       "10             5556      Sage-Bionetworks          SynapseWebClient   \n",
       "11         73033219                  Zeit                      docs   \n",
       "12         11735921                 arose                       ngl   \n",
       "13        125530255               mlpiper                   mlpiper   \n",
       "14          3086437          karma-runner                     karma   \n",
       "16         46403735             portainer                 portainer   \n",
       "17         11773124              getgauge                     gauge   \n",
       "18          5613772               pentaho            pentaho-kettle   \n",
       "19            55219             JetBrains        intellij-community   \n",
       "20          8196280                apache                     spark   \n",
       "21         22182978       cynicaloptimist       improved-initiative   \n",
       "22         46634954   GoogleCloudPlatform      google-cloud-eclipse   \n",
       "23         10442569            glenjarvis          ansible_tutorial   \n",
       "24          9039027                 tsuru                     tsuru   \n",
       "25         57324055               dstrigl                htheatpump   \n",
       "27         96086758  GoogleContainerTools                       jib   \n",
       "28         13427273           project-ncl                       pnc   \n",
       "29          5494028        opengeoscience                     geojs   \n",
       "30             5219          scikit-learn              scikit-learn   \n",
       "31         99455722           banzaicloud                telescopes   \n",
       "32          1803672              mulesoft                      mule   \n",
       "34             1142             saltstack                      salt   \n",
       "35          3020145                 CTPUG                     wafer   \n",
       "37          1545591                   opf               openproject   \n",
       "...             ...                   ...                       ...   \n",
       "3347903      183726             hibernate       hibernate-validator   \n",
       "3347904     2249947             tgriesser                      knex   \n",
       "3347906   109864226        RedHatInsights        compliance-backend   \n",
       "3347907     3905191              facebook                     react   \n",
       "3347909    15433727                  chef                   chef-dk   \n",
       "3347910    65003359               NYTimes            react-tracking   \n",
       "3347911     4505299               CartoDB         Windshaft-cartodb   \n",
       "3347912     4952344       spring-projects               spring-boot   \n",
       "3347913     1017955                jcodec                    jcodec   \n",
       "3347914    32567918               Alluxio                   alluxio   \n",
       "3347915     3798450                 pcgen                     pcgen   \n",
       "3347916    37192712                   LLK                scratch-vm   \n",
       "3347917    43082345            eqcorrscan                EQcorrscan   \n",
       "3347918    22100926                 Kinto                     kinto   \n",
       "3347919     2783352          shadow-robot            sr-build-tools   \n",
       "3347920    19660635        broadinstitute                  cromwell   \n",
       "3347921    19807382               jupyter                 nbconvert   \n",
       "3347922    12384531        broadinstitute                 viral-ngs   \n",
       "3347923    73235251        chanzuckerberg                 idseq-web   \n",
       "3347924   130068259               tonym89            live-poker-app   \n",
       "3347926    22070816        FormidableLabs                   victory   \n",
       "3347927    55688056         zsmartsystems  com.zsmartsystems.zigbee   \n",
       "3347928   128227798          SixtyCapital            infrastructure   \n",
       "3347929   103596154     virtualidentityag         dev-fe-onboarding   \n",
       "3347930    28904919                plotly                 plotly.js   \n",
       "3347931    55291137      freechipsproject               rocket-chip   \n",
       "3347932    30544060    Kronos-Integration     kronos-service-consul   \n",
       "3347933        1142             saltstack                      salt   \n",
       "3347934    31499094                mjmlio                      mjml   \n",
       "3347936     5660659             ikasanEIP                    ikasan   \n",
       "\n",
       "         merged_or_not  perc_neg_emotion  perc_pos_emotion  perc_neu_emotion  \\\n",
       "2                    1          0.000000          0.000000          0.000000   \n",
       "3                    1          0.000000          0.000000          0.000000   \n",
       "5                    1          0.000000          0.000000          0.000000   \n",
       "6                    1          0.000000          0.666667          0.333333   \n",
       "7                    1          0.000000          0.000000          0.000000   \n",
       "8                    1          0.000000          0.333333          0.666667   \n",
       "10                   1          0.000000          0.000000          0.000000   \n",
       "11                   1          0.000000          0.000000          1.000000   \n",
       "12                   0          1.000000          0.000000          0.000000   \n",
       "13                   1          0.000000          0.000000          0.000000   \n",
       "14                   1          0.250000          0.000000          0.750000   \n",
       "16                   1          0.000000          0.000000          0.000000   \n",
       "17                   1          0.500000          0.000000          0.500000   \n",
       "18                   1          0.000000          0.000000          0.000000   \n",
       "19                   0          0.000000          0.000000          0.000000   \n",
       "20                   0               NaN               NaN               NaN   \n",
       "21                   1          0.000000          0.000000          0.000000   \n",
       "22                   1          0.000000          0.000000          0.000000   \n",
       "23                   1          0.000000          0.000000          0.000000   \n",
       "24                   1          0.057143          0.257143          0.685714   \n",
       "25                   1          0.000000          0.000000          0.000000   \n",
       "27                   1          0.076923          0.076923          0.846154   \n",
       "28                   1          0.000000          0.000000          1.000000   \n",
       "29                   1          0.000000          0.000000          1.000000   \n",
       "30                   0          0.102649          0.195364          0.701987   \n",
       "31                   1          0.000000          0.000000          0.000000   \n",
       "32                   1          0.000000          0.000000          1.000000   \n",
       "34                   1          0.000000          0.000000          1.000000   \n",
       "35                   1          0.000000          0.000000          1.000000   \n",
       "37                   1          0.000000          0.000000          1.000000   \n",
       "...                ...               ...               ...               ...   \n",
       "3347903              1          0.000000          0.000000          1.000000   \n",
       "3347904              1          0.000000          0.000000          0.000000   \n",
       "3347906              1               NaN               NaN               NaN   \n",
       "3347907              1          0.000000          1.000000          0.000000   \n",
       "3347909              1          0.000000          0.000000          0.000000   \n",
       "3347910              1          0.000000          0.000000          0.000000   \n",
       "3347911              1          0.000000          0.000000          0.000000   \n",
       "3347912              0          0.500000          0.500000          0.000000   \n",
       "3347913              1          0.000000          0.000000          1.000000   \n",
       "3347914              1               NaN               NaN               NaN   \n",
       "3347915              0          0.000000          0.000000          1.000000   \n",
       "3347916              1          0.100000          0.050000          0.850000   \n",
       "3347917              0          0.000000          0.000000          1.000000   \n",
       "3347918              1          0.000000          0.000000          1.000000   \n",
       "3347919              1          0.000000          0.000000          1.000000   \n",
       "3347920              1          0.000000          0.000000          1.000000   \n",
       "3347921              1          0.000000          0.250000          0.750000   \n",
       "3347922              1          0.000000          0.333333          0.666667   \n",
       "3347923              1          0.000000          0.000000          0.000000   \n",
       "3347924              1          0.000000          0.000000          0.000000   \n",
       "3347926              1          0.000000          0.000000          0.000000   \n",
       "3347927              1          0.000000          0.000000          0.000000   \n",
       "3347928              1          0.000000          0.000000          0.000000   \n",
       "3347929              1          0.000000          0.000000          0.000000   \n",
       "3347930              1          0.000000          0.285714          0.714286   \n",
       "3347931              0               NaN               NaN               NaN   \n",
       "3347932              1          0.000000          0.000000          0.000000   \n",
       "3347933              0          0.000000          0.333333          0.666667   \n",
       "3347934              1          0.142857          0.285714          0.571429   \n",
       "3347936              1          0.000000          0.500000          0.500000   \n",
       "\n",
       "        contrib_gender contrib_country contrib_affiliation    inte_country  \\\n",
       "2                 male        malaysia                 NaN        malaysia   \n",
       "3                 male          canada                 NaN             NaN   \n",
       "5                 male             NaN                 NaN             NaN   \n",
       "6                 male             NaN                 NaN             NaN   \n",
       "7               female             NaN                 sas   united states   \n",
       "8                 male   united states             red hat             NaN   \n",
       "10                male             NaN                 NaN             NaN   \n",
       "11                male            peru                 NaN  united kingdom   \n",
       "12                male             NaN                 NaN   united states   \n",
       "13                male             NaN                 NaN             NaN   \n",
       "14                male             NaN                 NaN             NaN   \n",
       "16                male   united states                 NaN   united states   \n",
       "17                male             NaN                 NaN             NaN   \n",
       "18                male        portugal             pentaho             NaN   \n",
       "19                male             NaN                 NaN             NaN   \n",
       "20                male   united states          databricks             NaN   \n",
       "21                male   united states             tableau   united states   \n",
       "22              female   united states                 NaN   united states   \n",
       "23                male   united states                 NaN   united states   \n",
       "24                male          brazil                 NaN             NaN   \n",
       "25                male         austria                 NaN         austria   \n",
       "27                male          canada                 NaN          canada   \n",
       "28                male  united kingdom             red hat  united kingdom   \n",
       "29                male             NaN             kitware             NaN   \n",
       "30                male   united states                 NaN             NaN   \n",
       "31                male         hungary                 NaN             NaN   \n",
       "32                male             NaN            mulesoft             NaN   \n",
       "34                male             NaN                 NaN   united states   \n",
       "35                male    south africa                 NaN    south africa   \n",
       "37                male             NaN                 NaN  united kingdom   \n",
       "...                ...             ...                 ...             ...   \n",
       "3347903           male             NaN             red hat             NaN   \n",
       "3347904           male   united states                 NaN   united states   \n",
       "3347906           male  czech republic             red hat  czech republic   \n",
       "3347907           male  united kingdom            facebook  united kingdom   \n",
       "3347909           male   united states                 NaN   united states   \n",
       "3347910           male             NaN             nytimes             NaN   \n",
       "3347911           male             NaN               carto             NaN   \n",
       "3347912           male             NaN                 NaN             NaN   \n",
       "3347913           male   united states                 NaN             NaN   \n",
       "3347914           male   united states                 NaN             NaN   \n",
       "3347915           male   united states                 NaN   united states   \n",
       "3347916           male             NaN                 NaN             NaN   \n",
       "3347917           male     new zealand                 NaN     new zealand   \n",
       "3347918           male             NaN             mozilla             NaN   \n",
       "3347919           male             NaN                 NaN             NaN   \n",
       "3347920           male             NaN     broad institute             NaN   \n",
       "3347921           male             NaN                 NaN             NaN   \n",
       "3347922           male   united states                 NaN   united states   \n",
       "3347923           male   united states                 NaN   united states   \n",
       "3347924           male             NaN                 NaN             NaN   \n",
       "3347926         female   united states                 NaN   united states   \n",
       "3347927           male  united kingdom                 NaN  united kingdom   \n",
       "3347928           male             NaN                 NaN             NaN   \n",
       "3347929           male             NaN                 NaN             NaN   \n",
       "3347930           male   united states                 NaN   united states   \n",
       "3347931           male             NaN                 NaN             NaN   \n",
       "3347932           male             NaN                 NaN             NaN   \n",
       "3347933           male   united states                 NaN   united states   \n",
       "3347934           male     netherlands                 NaN     netherlands   \n",
       "3347936           male  united kingdom                 NaN             NaN   \n",
       "\n",
       "         same_country  same_affiliation  \n",
       "2                 1.0               NaN  \n",
       "3                 NaN               NaN  \n",
       "5                 NaN               NaN  \n",
       "6                 NaN               NaN  \n",
       "7                 NaN               NaN  \n",
       "8                 NaN               1.0  \n",
       "10                NaN               NaN  \n",
       "11                0.0               NaN  \n",
       "12                NaN               NaN  \n",
       "13                NaN               NaN  \n",
       "14                NaN               NaN  \n",
       "16                1.0               NaN  \n",
       "17                NaN               NaN  \n",
       "18                NaN               1.0  \n",
       "19                NaN               NaN  \n",
       "20                NaN               NaN  \n",
       "21                1.0               1.0  \n",
       "22                1.0               NaN  \n",
       "23                1.0               NaN  \n",
       "24                NaN               NaN  \n",
       "25                1.0               NaN  \n",
       "27                1.0               NaN  \n",
       "28                1.0               1.0  \n",
       "29                NaN               1.0  \n",
       "30                NaN               NaN  \n",
       "31                NaN               NaN  \n",
       "32                NaN               1.0  \n",
       "34                NaN               NaN  \n",
       "35                1.0               NaN  \n",
       "37                NaN               NaN  \n",
       "...               ...               ...  \n",
       "3347903           NaN               1.0  \n",
       "3347904           1.0               NaN  \n",
       "3347906           1.0               1.0  \n",
       "3347907           1.0               1.0  \n",
       "3347909           1.0               NaN  \n",
       "3347910           NaN               1.0  \n",
       "3347911           NaN               1.0  \n",
       "3347912           NaN               NaN  \n",
       "3347913           NaN               NaN  \n",
       "3347914           NaN               NaN  \n",
       "3347915           1.0               NaN  \n",
       "3347916           NaN               NaN  \n",
       "3347917           1.0               NaN  \n",
       "3347918           NaN               1.0  \n",
       "3347919           NaN               NaN  \n",
       "3347920           NaN               1.0  \n",
       "3347921           NaN               NaN  \n",
       "3347922           1.0               NaN  \n",
       "3347923           1.0               NaN  \n",
       "3347924           NaN               NaN  \n",
       "3347926           1.0               NaN  \n",
       "3347927           1.0               NaN  \n",
       "3347928           NaN               NaN  \n",
       "3347929           NaN               NaN  \n",
       "3347930           1.0               NaN  \n",
       "3347931           NaN               NaN  \n",
       "3347932           NaN               NaN  \n",
       "3347933           1.0               NaN  \n",
       "3347934           1.0               NaN  \n",
       "3347936           NaN               NaN  \n",
       "\n",
       "[2653541 rows x 13 columns]"
      ]
     },
     "metadata": {},
     "execution_count": 2
    }
   ],
   "source": [
    "data[['project_id', 'ownername', 'reponame','merged_or_not', 'perc_neg_emotion', 'perc_pos_emotion', 'perc_neu_emotion', 'contrib_gender', 'contrib_country', 'contrib_affiliation', 'inte_country', 'same_country', 'same_affiliation']].dropna(subset=['contrib_gender'])"
   ]
  },
  {
   "cell_type": "code",
   "execution_count": 3,
   "metadata": {},
   "outputs": [
    {
     "output_type": "execute_result",
     "data": {
      "text/html": "<div>\n<style scoped>\n    .dataframe tbody tr th:only-of-type {\n        vertical-align: middle;\n    }\n\n    .dataframe tbody tr th {\n        vertical-align: top;\n    }\n\n    .dataframe thead th {\n        text-align: right;\n    }\n</style>\n<table border=\"1\" class=\"dataframe\">\n  <thead>\n    <tr style=\"text-align: right;\">\n      <th></th>\n      <th>project_id</th>\n      <th>ownername</th>\n      <th>reponame</th>\n      <th>merged_or_not</th>\n      <th>contrib_gender</th>\n      <th>contrib_country</th>\n      <th>inte_country</th>\n      <th>same_country</th>\n    </tr>\n  </thead>\n  <tbody>\n    <tr>\n      <th>2</th>\n      <td>93139005</td>\n      <td>binary-com</td>\n      <td>SmartCharts</td>\n      <td>1</td>\n      <td>male</td>\n      <td>malaysia</td>\n      <td>malaysia</td>\n      <td>1.0</td>\n    </tr>\n    <tr>\n      <th>3</th>\n      <td>15059440</td>\n      <td>letsencrypt</td>\n      <td>boulder</td>\n      <td>1</td>\n      <td>male</td>\n      <td>canada</td>\n      <td>NaN</td>\n      <td>NaN</td>\n    </tr>\n    <tr>\n      <th>8</th>\n      <td>1808</td>\n      <td>candlepin</td>\n      <td>subscription-manager</td>\n      <td>1</td>\n      <td>male</td>\n      <td>united states</td>\n      <td>NaN</td>\n      <td>NaN</td>\n    </tr>\n    <tr>\n      <th>11</th>\n      <td>73033219</td>\n      <td>Zeit</td>\n      <td>docs</td>\n      <td>1</td>\n      <td>male</td>\n      <td>peru</td>\n      <td>united kingdom</td>\n      <td>0.0</td>\n    </tr>\n    <tr>\n      <th>16</th>\n      <td>46403735</td>\n      <td>portainer</td>\n      <td>portainer</td>\n      <td>1</td>\n      <td>male</td>\n      <td>united states</td>\n      <td>united states</td>\n      <td>1.0</td>\n    </tr>\n  </tbody>\n</table>\n</div>",
      "text/plain": [
       "    project_id    ownername              reponame  merged_or_not  \\\n",
       "2     93139005   binary-com           SmartCharts              1   \n",
       "3     15059440  letsencrypt               boulder              1   \n",
       "8         1808    candlepin  subscription-manager              1   \n",
       "11    73033219         Zeit                  docs              1   \n",
       "16    46403735    portainer             portainer              1   \n",
       "\n",
       "   contrib_gender contrib_country    inte_country  same_country  \n",
       "2            male        malaysia        malaysia           1.0  \n",
       "3            male          canada             NaN           NaN  \n",
       "8            male   united states             NaN           NaN  \n",
       "11           male            peru  united kingdom           0.0  \n",
       "16           male   united states   united states           1.0  "
      ]
     },
     "metadata": {},
     "execution_count": 3
    }
   ],
   "source": [
    "data_subset = data[['project_id', 'ownername', 'reponame','merged_or_not', 'contrib_gender', 'contrib_country', 'inte_country', 'same_country']].dropna(subset=['contrib_gender', 'contrib_country'])\n",
    "data_subset.head()"
   ]
  },
  {
   "cell_type": "code",
   "execution_count": null,
   "metadata": {},
   "outputs": [],
   "source": [
    "data_subset.groupby(['contrib_country', 'contrib_gender', 'merged_or_not'], as_index = False)"
   ]
  },
  {
   "cell_type": "code",
   "execution_count": null,
   "metadata": {},
   "outputs": [],
   "source": [
    "data_us = data_subset[data_subset.contrib_country=='united states']\n",
    "data_us.groupby('contrib_gender')['ownername'].count()"
   ]
  },
  {
   "cell_type": "code",
   "execution_count": 4,
   "metadata": {},
   "outputs": [],
   "source": [
    "sub_saharan_africa = [\"angola\",\"benin\",\"botswana\",\"burkina faso\",\"burundi\",\"cabo verde\",\"cameroon\",\"central african republic\",\"chad\" \"comoros \",\"congo\",\"cote d'ivoire\",\"democratic republic of the congo\",\"djibouti\",\"equatorial guinea\",\"eritrea\",\"ethiopia\",\"gabon\",\"gambia\",\"ghana\",\"guinea\",\"guinea-bissau \",\"kenya\",\"lesotho\",\"liberia\",\"madagascar\",\"malawi\",\"mali\",\"mauritania\",\"mauritius\",\"mayotte\",\"mozambique\" \"namibia\",\"niger\",\"nigeria\",\"reunion\",\"rwanda\",\"sao tome and principe\",\"senegal\",\"seychelles\",\"sierra leone\",\"somalia\",\"south africa\",\"south sudan\",\"swaziland\",\"togo\",\"uganda\",\"tanzania\",\"zambia\",\"zimbabwe\"]\n",
    "northern_africa_and_western_asia = [\"algeria\", \"egypt\", \"libya\", \"morocco\", \"sudan\", \"tunisia\", \"western sahara\", \"azerbaijan\", \"armenia\", \"bahrain\", \"cyprus\", \"georgia\", \"iraq\", \"israel\", \"jordan\", \"kuwait\", \"lebanon\", \"palestinian territories\", \"oman\", \"qatar\", \"saudi arabia\", \"syria\", \"turkey\", \"united arab emirates\", \"yemen\"]\n",
    "central_and_southern_asia =[\"kazakhstan\", \"kyrgyzstan\", \"tajikistan\", \"turkmenistan\", \"uzbekistan\", \"afghanistan\", \"bangladesh\", \"bhutan\", \"india\", \"iran\", \"maldives\", \"nepal\", \"pakistan\", \"sri lanka\"]\n",
    "eastern_and_south_eastern_asia = [\"vietnam\",\"taiwan\",\"macau\",\"laos\",\"china\", \"hong kong\", \"china, macao sar\", \"south korea\", \"japan\", \"mongolia\", \"north korea\", \"brunei\", \"cambodia\", \"indonesia\", \"lao people's democratic republic\", \"malaysia\", \"myanmar\", \"philippines\", \"singapore\", \"thailand\", \"timor-leste\", \"viet nam\"]\n",
    "latin_america_and_the_caribbean = [\"anguilla\", \"antigua and barbuda\", \"aruba\", \"bahamas\", \"barbados\", \"bonaire, sint eustatius and saba\", \"virgin islands\", \"cayman islands\", \"cuba\", \"curacao\", \"dominica\", \"dominican republic\", \"grenada\", \"guadeloupe\", \"haiti\", \"jamaica\", \"martinique\", \"montserrat\", \"puerto rico\", \"saint kitts and nevis\", \"saint lucia\", \"saint vincent and the grenadines\", \"sint maarten (dutch part)\", \"trinidad and tobago\", \"turks and caicos islands\", \"united states virgin islands\", \"belize\", \"honduras\", \"costa rica\", \"el salvador\", \"guatemala\", \"mexico\", \"nicaragua\", \"panama\", \"argentina\", \"bolivia\", \"brazil\", \"chile\", \"colombia\", \"ecuador\", \"french guiana\", \"falkland islands (malvinas)\", \"south georgia & the south sandwich islands\", \"guyana\", \"paraguay\", \"peru\", \"suriname\", \"uruguay\", \"venezuela\"]\n",
    "oceania=[\"australia\", \"christmas island\", \"cocos (keeling) islands\", \"heard island & mcdonald islands\", \"norfolk island\", \"new zealand\", \"melanesia\", \"micronesia\", \"french polynesia\"]\n",
    "europe_and_northern_america = [\"bermuda\", \"canada\", \"greenland\", \"united states\", \"europe\", \"bulgaria\", \"belarus\", \"czech republic\", \"hungary\", \"moldova\", \"poland\", \"romania\", \"russia\", \"slovakia\", \"ukraine\", \"åland islands\", \"channel islands\", \"denmark\", \"estonia\", \"faroe islands\", \"finland\", \"isle of man\", \"united kingdom\", \"iceland\", \"ireland\", \"latvia\", \"lithuania\", \"norway\", \"sweden\", \"albania\", \"andorra\", \"bosnia and herzegovina\", \"croatia\", \"greece\", \"italy\", \"malta\", \"montenegro\", \"portugal\", \"san marino\", \"serbia\", \"slovenia\", \"spain\", \"macedonia\", \"austria\", \"belgium\", \"switzerland\", \"germany\", \"france\", \"liechtenstein\", \"luxembourg\", \"monaco\", \"netherlands antilles\",\"netherlands\",\"antarctica\",\"gibraltar\",\"guam\",\"guernsey\",\"jersey\",\"kosovo\",\"new caledonia\",\"pitcairn islands\",\"northern mariana islands\"]"
   ]
  },
  {
   "cell_type": "code",
   "execution_count": 5,
   "metadata": {},
   "outputs": [],
   "source": [
    "data_subset.loc[data_subset[\"contrib_country\"].isin(sub_saharan_africa), \"contrib_country\"] = \"sub_saharan_africa\"\n",
    "data_subset.loc[data_subset[\"contrib_country\"].isin(northern_africa_and_western_asia), \"contrib_country\"] = \"northern_africa_and_western_asia\"\n",
    "data_subset.loc[data_subset[\"contrib_country\"].isin(central_and_southern_asia), \"contrib_country\"] = \"central_and_southern_asia\"\n",
    "data_subset.loc[data_subset[\"contrib_country\"].isin(eastern_and_south_eastern_asia), \"contrib_country\"] = \"eastern_and_south_eastern_asia\"\n",
    "data_subset.loc[data_subset[\"contrib_country\"].isin(latin_america_and_the_caribbean), \"contrib_country\"] = \"latin_america_and_the_caribbean\"\n",
    "data_subset.loc[data_subset[\"contrib_country\"].isin(oceania), \"contrib_country\"] = \"oceania\"\n",
    "data_subset.loc[data_subset[\"contrib_country\"].isin(europe_and_northern_america), \"contrib_country\"] = \"europe_and_northern_america\"\n",
    "data_subset.loc[data_subset[\"contrib_country\"].isin([\"mozambique\"]), \"contrib_country\"] = \"sub_saharan_africa\""
   ]
  },
  {
   "cell_type": "code",
   "execution_count": null,
   "metadata": {},
   "outputs": [],
   "source": [
    "data_subset"
   ]
  },
  {
   "cell_type": "code",
   "execution_count": 6,
   "metadata": {},
   "outputs": [
    {
     "output_type": "execute_result",
     "data": {
      "text/html": "<div>\n<style scoped>\n    .dataframe tbody tr th:only-of-type {\n        vertical-align: middle;\n    }\n\n    .dataframe tbody tr th {\n        vertical-align: top;\n    }\n\n    .dataframe thead th {\n        text-align: right;\n    }\n</style>\n<table border=\"1\" class=\"dataframe\">\n  <thead>\n    <tr style=\"text-align: right;\">\n      <th></th>\n      <th>contrib_country</th>\n      <th>contrib_gender</th>\n      <th>project_id</th>\n    </tr>\n  </thead>\n  <tbody>\n    <tr>\n      <th>0</th>\n      <td>central_and_southern_asia</td>\n      <td>female</td>\n      <td>2084</td>\n    </tr>\n    <tr>\n      <th>1</th>\n      <td>central_and_southern_asia</td>\n      <td>male</td>\n      <td>8577</td>\n    </tr>\n    <tr>\n      <th>2</th>\n      <td>eastern_and_south_eastern_asia</td>\n      <td>female</td>\n      <td>12954</td>\n    </tr>\n    <tr>\n      <th>3</th>\n      <td>eastern_and_south_eastern_asia</td>\n      <td>male</td>\n      <td>63872</td>\n    </tr>\n    <tr>\n      <th>4</th>\n      <td>europe_and_northern_america</td>\n      <td>female</td>\n      <td>86609</td>\n    </tr>\n    <tr>\n      <th>5</th>\n      <td>europe_and_northern_america</td>\n      <td>male</td>\n      <td>1046385</td>\n    </tr>\n    <tr>\n      <th>6</th>\n      <td>latin_america_and_the_caribbean</td>\n      <td>female</td>\n      <td>2019</td>\n    </tr>\n    <tr>\n      <th>7</th>\n      <td>latin_america_and_the_caribbean</td>\n      <td>male</td>\n      <td>33297</td>\n    </tr>\n    <tr>\n      <th>8</th>\n      <td>northern_africa_and_western_asia</td>\n      <td>female</td>\n      <td>882</td>\n    </tr>\n    <tr>\n      <th>9</th>\n      <td>northern_africa_and_western_asia</td>\n      <td>male</td>\n      <td>11678</td>\n    </tr>\n    <tr>\n      <th>10</th>\n      <td>oceania</td>\n      <td>female</td>\n      <td>1825</td>\n    </tr>\n    <tr>\n      <th>11</th>\n      <td>oceania</td>\n      <td>male</td>\n      <td>24889</td>\n    </tr>\n    <tr>\n      <th>12</th>\n      <td>sub_saharan_africa</td>\n      <td>female</td>\n      <td>217</td>\n    </tr>\n    <tr>\n      <th>13</th>\n      <td>sub_saharan_africa</td>\n      <td>male</td>\n      <td>5982</td>\n    </tr>\n  </tbody>\n</table>\n</div>",
      "text/plain": [
       "                     contrib_country contrib_gender  project_id\n",
       "0          central_and_southern_asia         female        2084\n",
       "1          central_and_southern_asia           male        8577\n",
       "2     eastern_and_south_eastern_asia         female       12954\n",
       "3     eastern_and_south_eastern_asia           male       63872\n",
       "4        europe_and_northern_america         female       86609\n",
       "5        europe_and_northern_america           male     1046385\n",
       "6    latin_america_and_the_caribbean         female        2019\n",
       "7    latin_america_and_the_caribbean           male       33297\n",
       "8   northern_africa_and_western_asia         female         882\n",
       "9   northern_africa_and_western_asia           male       11678\n",
       "10                           oceania         female        1825\n",
       "11                           oceania           male       24889\n",
       "12                sub_saharan_africa         female         217\n",
       "13                sub_saharan_africa           male        5982"
      ]
     },
     "metadata": {},
     "execution_count": 6
    }
   ],
   "source": [
    "a = data_subset.groupby(['contrib_country', 'contrib_gender'], as_index = False)['project_id'].count()\n",
    "a"
   ]
  },
  {
   "cell_type": "code",
   "execution_count": 7,
   "metadata": {},
   "outputs": [
    {
     "output_type": "execute_result",
     "data": {
      "text/html": "<div>\n<style scoped>\n    .dataframe tbody tr th:only-of-type {\n        vertical-align: middle;\n    }\n\n    .dataframe tbody tr th {\n        vertical-align: top;\n    }\n\n    .dataframe thead th {\n        text-align: right;\n    }\n</style>\n<table border=\"1\" class=\"dataframe\">\n  <thead>\n    <tr style=\"text-align: right;\">\n      <th></th>\n      <th>contrib_country</th>\n      <th>contrib_gender</th>\n      <th>project_id</th>\n    </tr>\n  </thead>\n  <tbody>\n    <tr>\n      <th>0</th>\n      <td>central_and_southern_asia</td>\n      <td>female</td>\n      <td>2084</td>\n    </tr>\n    <tr>\n      <th>2</th>\n      <td>eastern_and_south_eastern_asia</td>\n      <td>female</td>\n      <td>12954</td>\n    </tr>\n    <tr>\n      <th>4</th>\n      <td>europe_and_northern_america</td>\n      <td>female</td>\n      <td>86609</td>\n    </tr>\n    <tr>\n      <th>6</th>\n      <td>latin_america_and_the_caribbean</td>\n      <td>female</td>\n      <td>2019</td>\n    </tr>\n    <tr>\n      <th>8</th>\n      <td>northern_africa_and_western_asia</td>\n      <td>female</td>\n      <td>882</td>\n    </tr>\n    <tr>\n      <th>10</th>\n      <td>oceania</td>\n      <td>female</td>\n      <td>1825</td>\n    </tr>\n    <tr>\n      <th>12</th>\n      <td>sub_saharan_africa</td>\n      <td>female</td>\n      <td>217</td>\n    </tr>\n  </tbody>\n</table>\n</div>",
      "text/plain": [
       "                     contrib_country contrib_gender  project_id\n",
       "0          central_and_southern_asia         female        2084\n",
       "2     eastern_and_south_eastern_asia         female       12954\n",
       "4        europe_and_northern_america         female       86609\n",
       "6    latin_america_and_the_caribbean         female        2019\n",
       "8   northern_africa_and_western_asia         female         882\n",
       "10                           oceania         female        1825\n",
       "12                sub_saharan_africa         female         217"
      ]
     },
     "metadata": {},
     "execution_count": 7
    }
   ],
   "source": [
    "\n",
    "data_f = a.loc[a['contrib_gender'] == \"female\"]\n",
    "data_f"
   ]
  },
  {
   "cell_type": "code",
   "execution_count": 8,
   "metadata": {},
   "outputs": [
    {
     "output_type": "execute_result",
     "data": {
      "text/html": "<div>\n<style scoped>\n    .dataframe tbody tr th:only-of-type {\n        vertical-align: middle;\n    }\n\n    .dataframe tbody tr th {\n        vertical-align: top;\n    }\n\n    .dataframe thead th {\n        text-align: right;\n    }\n</style>\n<table border=\"1\" class=\"dataframe\">\n  <thead>\n    <tr style=\"text-align: right;\">\n      <th></th>\n      <th>contrib_country</th>\n      <th>contrib_gender</th>\n      <th>project_id</th>\n    </tr>\n  </thead>\n  <tbody>\n    <tr>\n      <th>1</th>\n      <td>central_and_southern_asia</td>\n      <td>male</td>\n      <td>8577</td>\n    </tr>\n    <tr>\n      <th>3</th>\n      <td>eastern_and_south_eastern_asia</td>\n      <td>male</td>\n      <td>63872</td>\n    </tr>\n    <tr>\n      <th>5</th>\n      <td>europe_and_northern_america</td>\n      <td>male</td>\n      <td>1046385</td>\n    </tr>\n    <tr>\n      <th>7</th>\n      <td>latin_america_and_the_caribbean</td>\n      <td>male</td>\n      <td>33297</td>\n    </tr>\n    <tr>\n      <th>9</th>\n      <td>northern_africa_and_western_asia</td>\n      <td>male</td>\n      <td>11678</td>\n    </tr>\n    <tr>\n      <th>11</th>\n      <td>oceania</td>\n      <td>male</td>\n      <td>24889</td>\n    </tr>\n    <tr>\n      <th>13</th>\n      <td>sub_saharan_africa</td>\n      <td>male</td>\n      <td>5982</td>\n    </tr>\n  </tbody>\n</table>\n</div>",
      "text/plain": [
       "                     contrib_country contrib_gender  project_id\n",
       "1          central_and_southern_asia           male        8577\n",
       "3     eastern_and_south_eastern_asia           male       63872\n",
       "5        europe_and_northern_america           male     1046385\n",
       "7    latin_america_and_the_caribbean           male       33297\n",
       "9   northern_africa_and_western_asia           male       11678\n",
       "11                           oceania           male       24889\n",
       "13                sub_saharan_africa           male        5982"
      ]
     },
     "metadata": {},
     "execution_count": 8
    }
   ],
   "source": [
    "data_m = a.loc[a['contrib_gender'] == \"male\"]\n",
    "data_m"
   ]
  },
  {
   "cell_type": "code",
   "execution_count": 10,
   "metadata": {},
   "outputs": [
    {
     "output_type": "display_data",
     "data": {
      "image/png": "[encoded data removed]",
      "text/plain": "<Figure size 432x288 with 1 Axes>"
     },
     "metadata": {
      "needs_background": "light"
     }
    }
   ],
   "source": [
    "import numpy as np\n",
    "import matplotlib.pyplot as plt\n",
    "import pandas as pd\n",
    "\n",
    "df = pd.DataFrame(np.c_[data_m['project_id'],data_f['project_id']], index=data_m['contrib_country'])\n",
    "df.plot.bar()\n",
    "\n",
    "plt.show()\n"
   ]
  },
  {
   "cell_type": "code",
   "execution_count": null,
   "metadata": {},
   "outputs": [],
   "source": []
  }
 ],
 "metadata": {
  "kernelspec": {
   "name": "python2717jvsc74a57bd0767d51c1340bd893661ea55ea3124f6de3c7a262a8b4abca0554b478b1e2ff90",
   "display_name": "Python 2.7.17 64-bit"
  },
  "language_info": {
   "codemirror_mode": {
    "name": "ipython",
    "version": 3
   },
   "file_extension": ".py",
   "mimetype": "text/x-python",
   "name": "python",
   "nbconvert_exporter": "python",
   "pygments_lexer": "ipython3",
   "version": "2.7.17"
  },
  "metadata": {
   "interpreter": {
    "hash": "767d51c1340bd893661ea55ea3124f6de3c7a262a8b4abca0554b478b1e2ff90"
   }
  }
 },
 "nbformat": 4,
 "nbformat_minor": 2
}